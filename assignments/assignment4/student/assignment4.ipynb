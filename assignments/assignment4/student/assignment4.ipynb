{
 "cells": [
  {
   "cell_type": "code",
   "execution_count": null,
   "metadata": {
    "deletable": false,
    "editable": false
   },
   "outputs": [],
   "source": [
    "# initializing otter-grader\n",
    "import otter\n",
    "grader = otter.Notebook()"
   ]
  },
  {
   "cell_type": "markdown",
   "metadata": {},
   "source": [
    "# Assignment 4: Modeling and Optimization\n",
    "\n",
    "**Due on June 10 at 11:59 pm**\n",
    "\n",
    "## Name: \n",
    "\n",
    "## Perm number: "
   ]
  },
  {
   "cell_type": "markdown",
   "metadata": {},
   "source": [
    "Mathematical modeling is important for describing exactly what the solution will give us. For example, a maximum likelihood estimator (assuming it exists), $\\hat\\theta$, is a method for finding the parameter that maximies likelihood $L_n$:\n",
    "$$L_{n}(\\hat{\\theta} ; x_1, x_2, \\dots, x_n)=\\max _{\\theta \\in \\Theta} L_{n}(\\theta ; x_1, x_2, \\dots, x_n)$$\n",
    "Data $x_1, x_2, \\dots$, set of feasible parameters $\\Theta$, and likelihood function $L_n$ are given.\n",
    "\n",
    "Many other applications of optimization exists, and this assignment will give a hands-on introduction to a simple linear programming problem."
   ]
  },
  {
   "cell_type": "code",
   "execution_count": 1,
   "metadata": {},
   "outputs": [],
   "source": [
    "import cvxpy as cp\n",
    "import numpy as np\n",
    "import pandas as pd\n",
    "%matplotlib inline\n",
    "import matplotlib.pyplot as plt\n",
    "import seaborn as sns\n",
    "sns.set_style(\"whitegrid\")"
   ]
  },
  {
   "cell_type": "markdown",
   "metadata": {
    "deletable": false,
    "editable": false
   },
   "source": [
    "# Resource Allocation Problem\n",
    "\n",
    "You are in charge of a company that makes two hot sauces: $x_1$ liters of Kapatio and $x_2$ liters of Zriracha. We will use optimization technique to find the \"best\" manufacturing strategy given our resource constraints.\n",
    "\n",
    "First, we need to define what we mean by \"best\" strategy. In this scenario, the goal is to obtain the highest revenue possible. While doing so, there are resource constraints we must satisfy. \n",
    "\n",
    "\n",
    "For example, in order to manufacture these two hot sauce products, different amount of peppers and vineger are needed. Also, we have only so much total resource available.\n",
    "\n",
    "Ingridients | Kapatio | Zriracha | Total Available\n",
    "----------- | ------- | -------- | ------------------\n",
    "Pepper      | 5       | 7        | 30\n",
    "Vineger     | 4       | 2        | 12\n",
    "\n",
    "## Question 1: Resource Constraints\n",
    "\n",
    "### Question 1.a: Modeling Resource Usage\n",
    "\n",
    "What is the equation for the amount of pepper needed to manufacture $x_1$ and $x_2$. What is the equation for the amount of vinegar?\n",
    "(Use [Mathpix](https://mathpix.com/) to write equations)\n",
    "\n",
    "<!--\n",
    "BEGIN QUESTION\n",
    "name: q1a\n",
    "manual: true\n",
    "points: 4\n",
    "-->\n",
    "<!-- EXPORT TO PDF -->"
   ]
  },
  {
   "cell_type": "markdown",
   "metadata": {},
   "source": [
    "**YOUR SOLUTION HERE**"
   ]
  },
  {
   "cell_type": "markdown",
   "metadata": {
    "deletable": false,
    "editable": false
   },
   "source": [
    "### Question 1.b:  Resource Usage vs. Total Resource Constraint\n",
    "\n",
    "Total amount of pepper needed cannot exceed total available. Write down the inequality expressing this relationship. Do the same for vinegar. These inequalities are your resource constraints.\n",
    "Additinally, variables $x_1$ and $x_2$ are non-negative: i.e. amount of manufactured goods cannot be negative.\n",
    "\n",
    "Rewrite the system of constraint inequalities into a matrix inequality: $Ax\\leq b$, where $x=(x_1, x_2)^T$. Arrange rows of $A$ and $b$ such that:\n",
    "\n",
    "* Row 1: total pepper amount constraint\n",
    "* Row 2: total vinegar amount constraint\n",
    "* Row 3: Kapatio non-negativity constraint\n",
    "* Row 4: Zriracha non-negativity constraint\n",
    "\n",
    "Less than symbol in $Ax\\leq b$ means element-wise.\n",
    "\n",
    "<!--\n",
    "BEGIN QUESTION\n",
    "name: q1b1\n",
    "manual: true\n",
    "points: 4\n",
    "-->\n",
    "<!-- EXPORT TO PDF -->"
   ]
  },
  {
   "cell_type": "markdown",
   "metadata": {},
   "source": [
    "**YOUR SOLUTION HERE**"
   ]
  },
  {
   "cell_type": "markdown",
   "metadata": {
    "deletable": false,
    "editable": false
   },
   "source": [
    "Define matrix `A` and vector `b` according to matrix inequality above.\n",
    "\n",
    "<!--\n",
    "BEGIN QUESTION\n",
    "name: q1b2\n",
    "manual: false\n",
    "points: 4\n",
    "-->"
   ]
  },
  {
   "cell_type": "code",
   "execution_count": 2,
   "metadata": {},
   "outputs": [],
   "source": [
    "A1 = ...\n",
    "b1 = ..."
   ]
  },
  {
   "cell_type": "markdown",
   "metadata": {
    "deletable": false,
    "editable": false
   },
   "source": [
    "<!--\n",
    "BEGIN QUESTION\n",
    "name: q1b3_hidden\n",
    "manual: false\n",
    "points: 4\n",
    "-->"
   ]
  },
  {
   "cell_type": "code",
   "execution_count": 5,
   "metadata": {},
   "outputs": [],
   "source": [
    "## leave blank"
   ]
  },
  {
   "cell_type": "markdown",
   "metadata": {},
   "source": [
    "### Visualizing Feasible Region\n",
    "In a 2-dimensional plot, we will visualize the area that satisfies both of the resource constraints. Draw $x_1$ on the horizontal axis and $x_2$ on the vertical axis. \n",
    "\n",
    "There will be two main components to the plot:\n",
    "* **Lines** indicating constraint boundaries:  \n",
    "    e.g. the constraint $x_2\\geq 0$ has boundary at $x_2 = 0$.\n",
    "* **Shaded area** indicating feasible regions:  \n",
    "    e.g., the whole region $x_2 > 0$ is to be shaded _if_ $x_2\\geq 0$ was the only constraint. We will use shading to indicate the region where _all_ constraints are satisfied."
   ]
  },
  {
   "cell_type": "code",
   "execution_count": 8,
   "metadata": {},
   "outputs": [],
   "source": [
    "x1_line = np.linspace(-1, 10, 500)\n",
    "x2_line = np.linspace(-1, 10, 500)"
   ]
  },
  {
   "cell_type": "markdown",
   "metadata": {},
   "source": [
    "### Question 1.c: Feasible Region Boundary\n",
    "\n",
    "In a list named `boundary`, create four data frames for each equality in $Ax=b$. These lines indicate where the feasible area ends. Set column names as\n",
    "\n",
    "* `$x_1$`\n",
    "* `$x_2$`\n",
    "* `constraints`\n",
    "\n",
    "Note the use of latex codes (feel free to use [Mathpix](https://mathpix.com/)). \n",
    "\n",
    "#### Toy Example: Drawing Boundaries\n",
    "\n",
    "Here is a **toy example** of drawing two constraint boundaries by constructing data frames:"
   ]
  },
  {
   "cell_type": "code",
   "execution_count": 9,
   "metadata": {},
   "outputs": [],
   "source": [
    "z1_line = np.linspace(-1, 10, 500)\n",
    "z2_line = np.linspace(-1, 10, 500)\n",
    "\n",
    "boundary = [\n",
    "    pd.DataFrame({\n",
    "        '$z_1$': np.ones_like(z2_line)*1,\n",
    "        '$z_2$': z2_line,\n",
    "        'constraint': '$z_1\\geq 1$'\n",
    "    }),\n",
    "    pd.DataFrame({\n",
    "        '$z_1$': z1_line,\n",
    "        '$z_2$': np.ones_like(z1_line)*2,\n",
    "        'constraint': '$z_2\\geq 2$'\n",
    "    }),\n",
    "]\n",
    "fig, ax = plt.subplots(figsize=(6, 6))\n",
    "sns.lineplot(x='$z_1$', y='$z_2$', hue='constraint', data=pd.concat(boundary), ax=ax).axvline(1)\n",
    "plt.xlim(-1, 6)\n",
    "plt.ylim(-1, 6)\n",
    "plt.show()"
   ]
  },
  {
   "cell_type": "markdown",
   "metadata": {
    "deletable": false,
    "editable": false
   },
   "source": [
    "Sometimes, things just do not work as expected. \n",
    "\n",
    "In the toy example code, \n",
    "```\n",
    "sns.lineplot(x='$z_1$', y='$z_2$', hue='constraint', data=pd.concat(boundary), ax=ax).axvline(1)\n",
    "```\n",
    "what seems strange about the plotting command? Why was the strange code necessary?\n",
    "\n",
    "<!--\n",
    "BEGIN QUESTION\n",
    "name: q1c1\n",
    "manual: true\n",
    "points: 4\n",
    "-->\n",
    "<!-- EXPORT TO PDF -->"
   ]
  },
  {
   "cell_type": "markdown",
   "metadata": {},
   "source": [
    "**YOUR SOLUTION HERE**"
   ]
  },
  {
   "cell_type": "markdown",
   "metadata": {},
   "source": [
    "#### Example: Resource Constraint Boundary\n",
    "\n",
    "Now, create a data frame for the non-negativity constraint $x_2\\geq 0$ as follows:"
   ]
  },
  {
   "cell_type": "code",
   "execution_count": 10,
   "metadata": {},
   "outputs": [],
   "source": [
    "pd.DataFrame({'$x_1$':x1_line,               ## x_1 can take on any value\n",
    "              '$x_2$':x1_line * 0.0,         ## x_2 = 0\n",
    "              'constraint':'$x_2 \\geq 0$'}), ## constraint equation for labeling"
   ]
  },
  {
   "cell_type": "markdown",
   "metadata": {
    "deletable": false,
    "editable": false
   },
   "source": [
    "Create a list named `boundary` containing four data frames (each corresponding to a constraint). Concatenate data frames in `boundary` to one data frame named `hull`.\n",
    "\n",
    "<!--\n",
    "BEGIN QUESTION\n",
    "name: q1c2\n",
    "manual: false\n",
    "points: 6\n",
    "-->"
   ]
  },
  {
   "cell_type": "code",
   "execution_count": 11,
   "metadata": {},
   "outputs": [],
   "source": [
    "boundary = [\n",
    "    ...\n",
    "    pd.DataFrame({'$x_1$':x1_line,\n",
    "                  '$x_2$':x1_line * 0.0,\n",
    "                  'constraint':'$x_2\\geq 0$'})\n",
    "]\n",
    "hull = ..."
   ]
  },
  {
   "cell_type": "markdown",
   "metadata": {},
   "source": [
    "### Question 1.d: Interior of Feasible Region\n",
    "\n",
    "Previous question prepared constraint boundaries, $Ax = b$. In this question, we calculate the interior of the feasible region, which will be shaded in the visualization. First, create a 2-d array of $x_1$ and $x_2$ values. If a point $(x_1, x_2)$ satisfies _every_ constraint, the point will be colored grey.\n",
    "\n",
    "For example, in order to shade $\\{x_1: x_1\\geq 1\\}\\cap\\{x_2: x_2\\geq 2\\}$, we can use the `imshow` method. "
   ]
  },
  {
   "cell_type": "code",
   "execution_count": 16,
   "metadata": {},
   "outputs": [],
   "source": [
    "z1_line = np.linspace(-1, 6, 10)\n",
    "z2_line = np.linspace(-1, 6, 10)\n",
    "z1_grid, z2_grid = np.meshgrid(z1_line, z2_line)\n",
    "\n",
    "fig, az = plt.subplots(figsize=(6, 6))\n",
    "az.imshow(\n",
    "    ((z1_grid >= 1) & (z2_grid >= 2)).astype(int),\n",
    "    origin='lower',\n",
    "    extent=(z1_grid.min(), z1_grid.max(), z2_grid.min(), z2_grid.max()),\n",
    "    cmap=\"Greys\", alpha=0.3, aspect='equal' \n",
    ")\n",
    "plt.xlim(-1, 6)\n",
    "plt.ylim(-1, 6)\n",
    "plt.show()"
   ]
  },
  {
   "cell_type": "markdown",
   "metadata": {
    "deletable": false,
    "editable": false
   },
   "source": [
    "By dissecting the command below and reading the documentation, report what each of the following lines does:\n",
    "\n",
    "<!--\n",
    "BEGIN QUESTION\n",
    "name: q1d1\n",
    "manual: true\n",
    "points: 6\n",
    "-->\n",
    "<!-- EXPORT TO PDF -->"
   ]
  },
  {
   "cell_type": "markdown",
   "metadata": {},
   "source": [
    "* `((y1_grid >= 1) & (y2_grid >= 2)).astype(int)` (What is the output of running this command?)  \n",
    "    **YOUR SOLUTION HERE**\n",
    "* `origin='lower'`  \n",
    "    **YOUR SOLUTION HERE**\n",
    "* `extent=(y1_grid.min(), y1_grid.max(), y2_grid.min(), y2_grid.max())`  \n",
    "    **YOUR SOLUTION HERE**\n",
    "* `cmap='Greys'`  \n",
    "    **YOUR SOLUTION HERE**\n",
    "* `alpha=0.3`  \n",
    "    **YOUR SOLUTION HERE**\n",
    "* `aspect='equal'`  \n",
    "    **YOUR SOLUTION HERE**"
   ]
  },
  {
   "cell_type": "markdown",
   "metadata": {
    "deletable": false,
    "editable": false
   },
   "source": [
    "### Question 1.e: Visualizing the Feasible Region\n",
    "\n",
    "Finally, create a figure that shows constraint boundaries and the interior region shaded with a light grey color.\n",
    "\n",
    "Your output will look like this:  \n",
    "![hull](feasible.png)\n",
    "\n",
    "<!--\n",
    "BEGIN QUESTION\n",
    "name: q1e1\n",
    "manual: true\n",
    "points: 8\n",
    "-->\n",
    "<!-- EXPORT TO PDF -->"
   ]
  },
  {
   "cell_type": "code",
   "execution_count": 17,
   "metadata": {},
   "outputs": [],
   "source": [
    "fig, ax = plt.subplots(figsize=(6, 6))\n",
    "x1_grid, x2_grid = np.meshgrid(x1_line, x2_line)\n",
    "\n",
    "ax.imshow(\n",
    "    (\n",
    "        ...\n",
    "    ),\n",
    "    origin='lower',\n",
    "    extent=(x1_grid.min(), x1_grid.max(), x2_grid.min(), x2_grid.max()),\n",
    "    cmap=\"Greys\", alpha = 0.3, aspect='equal')\n",
    "\n",
    "\n",
    "# ax = sns.lineplot(???).axvline(???)\n",
    "ax = ...\n",
    "\n",
    "plt.xlim(-1, 6)\n",
    "plt.ylim(-1, 6)\n",
    "plt.show()"
   ]
  },
  {
   "cell_type": "markdown",
   "metadata": {
    "deletable": false,
    "editable": false
   },
   "source": [
    "In the context of linear programming, $Ax\\leq b$ is called the _feasible region_ (including the appropriate sections of the boundaries). Denote the (shaded) feasible region as set $C$. Points $(x_1,x_2)\\in C$ satisfy all of the constraints.\n",
    "\n",
    "Describe in plain words the feasible region in the context of hot sauce manufacturing. Specifically, which constraint is violated (if any) by a point at:\n",
    "\n",
    "<!--\n",
    "BEGIN QUESTION\n",
    "name: q1e2\n",
    "manual: true\n",
    "points: 6\n",
    "-->\n",
    "<!-- EXPORT TO PDF -->"
   ]
  },
  {
   "cell_type": "markdown",
   "metadata": {},
   "source": [
    "* $(x_1,x_2) = (4, 1)$:  \n",
    "    **YOUR SOLUTION HERE**\n",
    "* $(x_1,x_2) = (0, 5)$:  \n",
    "    **YOUR SOLUTION HERE**\n",
    "* $(x_1,x_2) = (3, 4)$:  \n",
    "    **YOUR SOLUTION HERE**"
   ]
  },
  {
   "cell_type": "markdown",
   "metadata": {
    "deletable": false,
    "editable": false
   },
   "source": [
    "## Question 2: Objective Function\n",
    "\n",
    "### Question 2.a: Defining Objective Function\n",
    "\n",
    "Suppose the hot sauces are sold at the same price: \\\\$5 per liter. \n",
    "\n",
    "What is the equation $f(x)$ for the total revenue as a function of $x_1$ and $x_2$? \n",
    "\n",
    "The function $f(x)$ is called the objective function.\n",
    "\n",
    "<!--\n",
    "BEGIN QUESTION\n",
    "name: q2a1\n",
    "manual: true\n",
    "points: 4\n",
    "-->\n",
    "<!-- EXPORT TO PDF -->"
   ]
  },
  {
   "cell_type": "markdown",
   "metadata": {},
   "source": [
    "**YOUR SOLUTION HERE**"
   ]
  },
  {
   "cell_type": "markdown",
   "metadata": {
    "deletable": false,
    "editable": false
   },
   "source": [
    "Objective function $f(x)$ is a linear function in $x$. Therefore, $f(x)$ is a 2-dimesional hyperplane. Note that each value of $f(x)$ defines a line in $(x_1, x_2)$ plane.\n",
    "\n",
    "For example, $f(x)= 0 = c_1x_1 + c_2x_2$ defines a line. A subspace of equal function value is sometimes referred to as a _level set_ or a _contour line_ when visualized.\n",
    "\n",
    "First, create a numpy array of prices `c` for the two hot sauces, $x_1$ and $x_2$. Then, create a list `f_vals` containing four data frames of contour lines, $f(x) \\in \\{0, 10, 20, 30\\}$. by creating one data frame for each contour line. \n",
    "\n",
    "<!--\n",
    "BEGIN QUESTION\n",
    "name: q2a2\n",
    "manual: false\n",
    "points: 4\n",
    "-->"
   ]
  },
  {
   "cell_type": "code",
   "execution_count": 18,
   "metadata": {},
   "outputs": [],
   "source": [
    "c = ...\n",
    "\n",
    "fig, ax = plt.subplots(figsize=(6, 6))\n",
    "contours = [\n",
    "    pd.DataFrame({\n",
    "        '$x_1$': x1_line,\n",
    "        '$x_2$': ( 0 - c[0]*x1_line)/c[1],\n",
    "        '$f(x)$': 0\n",
    "    }),\n",
    "    ...\n",
    "]\n",
    "f_vals = pd.concat(contours)\n",
    "\n",
    "# ax = sns.lineplot(???)\n",
    "ax = ...\n",
    "\n",
    "plt.xlim(-1, 6)\n",
    "plt.ylim(-1, 6)\n",
    "plt.show()"
   ]
  },
  {
   "cell_type": "markdown",
   "metadata": {
    "deletable": false,
    "editable": false
   },
   "source": [
    "### Question 2.b: Direction of Steepest Increase\n",
    "\n",
    "Since we want to maximize revenue, we want to increase our objective function as much as possible. Analogous to the minimization example given in a previous lecture, we can repeatedly move in the direction of function increase. In order to determine such direction, compute the gradient of $f(x)$ at $x=(0,0)^T$:\n",
    "$$\\nabla_x f(x) = \\begin{pmatrix}\\frac{\\partial f(x)}{\\partial x_1}\\\\\\frac{\\partial f(x)}{\\partial x_2}\\end{pmatrix} $$\n",
    "\n",
    "<!--\n",
    "BEGIN QUESTION\n",
    "name: q2b\n",
    "manual: true\n",
    "points: 4\n",
    "-->\n",
    "<!-- EXPORT TO PDF -->"
   ]
  },
  {
   "cell_type": "markdown",
   "metadata": {},
   "source": [
    "**YOUR SOLUTION HERE**"
   ]
  },
  {
   "cell_type": "markdown",
   "metadata": {
    "deletable": false,
    "editable": false
   },
   "source": [
    "## Question 3: Putting Pieces Together\n",
    "\n",
    "### Question 3.a: Standard Form of a Linear Programming Problem\n",
    "\n",
    "Write down the so-called the _standard form_ of a linear programming problem:\n",
    "$$\\begin{aligned}\n",
    "\\max_x & f(x)\\\\\n",
    "\\text{subject to } & Ax\\leq b\n",
    "\\end{aligned}$$\n",
    "\n",
    "Specifically, write the obejective as an inner product of two vectors: $f(x) = c^T x$, and write the constraint as a vector inequality involving a matrix-vector prduct: $Ax\\leq b$, where $A$ is a 4-by-2 matrix.\n",
    "\n",
    "<!--\n",
    "BEGIN QUESTION\n",
    "name: q3a\n",
    "manual: true\n",
    "points: 4\n",
    "-->\n",
    "<!-- EXPORT TO PDF -->"
   ]
  },
  {
   "cell_type": "markdown",
   "metadata": {},
   "source": [
    "**YOUR SOLUTION HERE**"
   ]
  },
  {
   "cell_type": "markdown",
   "metadata": {
    "deletable": false,
    "editable": false
   },
   "source": [
    "### Question 3.b: Computing the Numerical Solution\n",
    "\n",
    "Therefore, _maximizing_ the revenue is a search over the feasible region for the best point $x^*=(x_1^*, x_2^*)$ that gives the largest revenue. On the otherhand, any _infeasible_ point _not_ in the feasible region cannot be a solution to the constrained optimization problem.\n",
    "\n",
    "Notationally, the following expression means the same thing:\n",
    "$$x^* = \\arg\\max_{\\{x: Ax\\leq b\\}} f(x)$$\n",
    "\n",
    "Using [CVXPY](https://www.cvxpy.org/), solve for the resource allocation problem with constraints.\n",
    "\n",
    "<!--\n",
    "BEGIN QUESTION\n",
    "name: q3b\n",
    "manual: false\n",
    "points: 4\n",
    "-->"
   ]
  },
  {
   "cell_type": "code",
   "execution_count": 23,
   "metadata": {},
   "outputs": [],
   "source": [
    "# define variables\n",
    "x = ...\n",
    "\n",
    "# define the linear program\n",
    "problem = cp.Problem(\n",
    "    ...\n",
    ")\n",
    "\n",
    "fstar1 = problem.solve()                                                 # maximum attained function value\n",
    "xstar1 = pd.DataFrame(x.value.reshape(1, 2), columns=['$x_1$', '$x_2$']) # maximizer x for f"
   ]
  },
  {
   "cell_type": "markdown",
   "metadata": {
    "deletable": false,
    "editable": false
   },
   "source": [
    "### Question 3.c: Plotting the optimal solution\n",
    "\n",
    "<!--\n",
    "BEGIN QUESTION\n",
    "name: q3c\n",
    "manual: true\n",
    "points: 4\n",
    "-->\n",
    "<!-- EXPORT TO PDF -->"
   ]
  },
  {
   "cell_type": "code",
   "execution_count": 29,
   "metadata": {},
   "outputs": [],
   "source": [
    "fig, ax = plt.subplots(figsize=(6, 6))\n",
    "x1_grid, x2_grid = np.meshgrid(x1_line, x2_line)\n",
    "ax.imshow(\n",
    "    (\n",
    "        (A1[0,0]*x1_grid + A1[0,1]*x2_grid <= b1[0]) & # Pepper constraints\n",
    "        (A1[1,0]*x1_grid + A1[1,1]*x2_grid <= b1[1]) & # Vinegar constraints\n",
    "        (A1[2,0]*x1_grid + A1[2,1]*x2_grid <= b1[2]) & \n",
    "        (A1[3,0]*x1_grid + A1[3,1]*x2_grid <= b1[3])   # non-negativity constraints \n",
    "    ),\n",
    "    origin='lower',\n",
    "    extent=(x1_grid.min(), x1_grid.max(), x2_grid.min(), x2_grid.max()),\n",
    "    cmap=\"Greys\", alpha = 0.3, aspect='equal' \n",
    ")\n",
    "sns.scatterplot(x='$x_1$', y='$x_2$', data=xstar1, ax=ax, s=100)\n",
    "sns.lineplot(x='$x_1$', y='$x_2$', hue='$f(x)$', data=f_vals, ax=ax)\n",
    "plt.xlim(-1, 6)\n",
    "plt.ylim(-1, 6)\n",
    "plt.show()"
   ]
  },
  {
   "cell_type": "markdown",
   "metadata": {},
   "source": [
    "## Question 4: Nutrition Problem\n",
    "\n",
    "During the second world war, the US Army set out to save money without damaging the nutritional health of members of the armed forces. \n",
    "\n",
    "> According to [this source](https://ibmdecisionoptimization.github.io/docplex-doc/mp/diet.html), the following problem is a _simple variation of the well-known diet problem that was posed by George Stigler and George Dantzig: how to choose foods that satisfy nutritional requirements while minimizing costs or maximizing satiety._\n",
    "> \n",
    "> _Stigler solved his model \"by hand\" because technology at the time did not yet support more sophisticated methods. However, in 1947, Jack Laderman, of the US National Bureau of Standards, applied the simplex method (an algorithm that was recently proposed by George Dantzig) to Stigler’s model. Laderman and his team of nine linear programmers, working on desk calculators, showed that Stigler’s heuristic approximation was very close to optimal (only 24 cents per year over the optimum found by the simplex method) and thus demonstrated the practicality of the simplex method on large-scale, real-world problems._\n",
    "> \n",
    "> _The problem that is solved in this example is to minimize the cost of a diet that satisfies certain nutritional constraints._\n",
    "\n",
    "The file `foods.csv` contains calorie, nutritional content, serving size, and price per serving information about 64 foods. Read it into a data frame named `foods`."
   ]
  },
  {
   "cell_type": "code",
   "execution_count": 30,
   "metadata": {},
   "outputs": [],
   "source": [
    "foods = ...\n",
    "print(foods)"
   ]
  },
  {
   "cell_type": "markdown",
   "metadata": {},
   "source": [
    "The file `nutritional_constraints.csv` contains healthy nutritional range constraints. Minimum and maximum allowed nutritional contents can be found in this file. Name the variable `requirements`."
   ]
  },
  {
   "cell_type": "code",
   "execution_count": 31,
   "metadata": {},
   "outputs": [],
   "source": [
    "requirements = ...\n",
    "print(requirements)"
   ]
  },
  {
   "cell_type": "markdown",
   "metadata": {},
   "source": [
    "Extract the nutritional content of foods into a 2-d array named `ncontent`."
   ]
  },
  {
   "cell_type": "code",
   "execution_count": 32,
   "metadata": {},
   "outputs": [],
   "source": [
    "ncontent = ...\n",
    "print(ncontent)"
   ]
  },
  {
   "cell_type": "markdown",
   "metadata": {
    "deletable": false,
    "editable": false
   },
   "source": [
    "### Question 4.a: Define Constraints\n",
    "\n",
    "To avoid eating the same foods, limit each food intake to be 2 or less. Also, one cannot consume less than zero servings. Furthermore, apply the nutritional constraints as specified in `nutritional_constraints.csv` (assume that the units are the same as food nutritional contents)\n",
    "\n",
    "Note that a range constraints, e.g., $2000 \\leq \\text{total calories} \\leq 2250$, can be written as two constraints: $\\text{total calories} \\leq 2250$ and $-\\text{total calories} \\leq -2000$. Hence, we can rewrite caloric intake constraints as\n",
    "$$\\begin{aligned}\n",
    "-(\\text{calories in frozen broccoli})x_0 - (\\text{calories in raw carrots})x_1 - \\dots - (\\text{calories in bean bacon soup, w/watr})x_{63} = -c^T x&\\leq -2000\\\\\n",
    "  \\text{calories in frozen broccoli})x_0 + (\\text{calories in raw carrots})x_1 + \\dots + (\\text{calories in bean bacon soup, w/watr})x_{63} = c^T x&\\leq 2250\\\\\n",
    "\\end{aligned}$$\n",
    "where vector $c$ contains calorie information for all 64 foods and $x$ containts servings consumed of each food. Matrix $U$ and vector $w$ would be such that\n",
    "$$\\begin{aligned}\n",
    "U=\n",
    "\\begin{pmatrix}\n",
    "-c^T\\\\\n",
    "c^T\n",
    "\\end{pmatrix}\n",
    "\\text{ and }\n",
    "w = \\begin{pmatrix}\n",
    "-2000\\\\\n",
    "2250\n",
    "\\end{pmatrix}\n",
    "\\end{aligned},$$\n",
    "and the matrix-vector inequality would be $Ux\\leq w$. Range constraints of each food can be implemented similarly with identity matrices.\n",
    "\n",
    "Denote nutritional content information from `foods` data frame as $A$ and denote the `Min` and `Max` columns of `requirements` as vector $b_L$ and $b_U$, respectively. Construct $M$ and $d$ in $M x \\leq d$ using $I$ (identity matrix), $A$, $b_L$, $b_U$, and other constants, so that all the range constraints are expressed in $M x\\leq d$. (This is a theory question. No coding is involved)\n",
    "\n",
    "<!--\n",
    "BEGIN QUESTION\n",
    "name: q4a\n",
    "manual: true\n",
    "points: 4\n",
    "-->\n",
    "<!-- EXPORT TO PDF -->"
   ]
  },
  {
   "cell_type": "markdown",
   "metadata": {},
   "source": [
    "**YOUR SOLUTION HERE**"
   ]
  },
  {
   "cell_type": "markdown",
   "metadata": {
    "deletable": false,
    "editable": false
   },
   "source": [
    "### Question 4.b: Create Python Variables\n",
    "\n",
    "Denote the servings of each food as $x_i$ where $i$ is the row index of each food in `foods` data frame: i.e. $x_0$ indicates number of servings of frozen broccoli, $x_1$ indicates that of raw carrots, etc.\n",
    "\n",
    "* Create cvxpy variable `x` to represent the number of servings of food.\n",
    "* Create cost vector `a` that gives per serving cost. \n",
    "* Create matrix `M` and `d` that lists nutritional content in the following order:\n",
    "    * Non-negativity constraint of food consumed: i.e. 0 servings or more\n",
    "    * Upper limit on food consumed: i.e. 2 servings or less\n",
    "    * Lower limit on consumption of each nutrition: i.e. following `Min` column\n",
    "    * Upper limit on consumption of each nutrition: i.e. following `Max` column\n",
    "    \n",
    "<!--\n",
    "BEGIN QUESTION\n",
    "name: q4b\n",
    "manual: false\n",
    "points: 4\n",
    "-->"
   ]
  },
  {
   "cell_type": "code",
   "execution_count": 33,
   "metadata": {},
   "outputs": [],
   "source": [
    "M = np.concatenate([\n",
    "    ...\n",
    "])\n",
    "\n",
    "d = np.concatenate([\n",
    "    ...\n",
    "])\n",
    "\n",
    "cost = ..."
   ]
  },
  {
   "cell_type": "markdown",
   "metadata": {
    "deletable": false,
    "editable": false
   },
   "source": [
    "### Question 4.c: Solve the Problem\n",
    "\n",
    "Use cvxpy to solve for the optimal solution. Use [ECOS as your solver](https://www.cvxpy.org/tutorial/advanced/index.html?highlight=osqp#choosing-a-solver).\n",
    "\n",
    "<!--\n",
    "BEGIN QUESTION\n",
    "name: q4c\n",
    "manual: false\n",
    "points: 4\n",
    "-->"
   ]
  },
  {
   "cell_type": "code",
   "execution_count": 38,
   "metadata": {},
   "outputs": [],
   "source": [
    "servings = ...\n",
    "\n",
    "# define the linear program\n",
    "nutrition_problem = cp.Problem(\n",
    "    ...\n",
    ")\n",
    "\n",
    "# solve linear programming problem with ECOS solver\n",
    "# https://www.cvxpy.org/tutorial/advanced/index.html?highlight=osqp#choosing-a-solver\n",
    "fstar2 = ...\n",
    "xstar2 = servings.value"
   ]
  },
  {
   "cell_type": "markdown",
   "metadata": {
    "deletable": false,
    "editable": false
   },
   "source": [
    "### Question 4.d: Interpreting the Results\n",
    "\n",
    "State the results in the context of the problem. How much of each food was consumed? List the foods and their calculated amounts. What is the total cost of feeding one soldier? \n",
    "\n",
    "<!--\n",
    "BEGIN QUESTION\n",
    "name: q4d\n",
    "manual: true\n",
    "points: 4\n",
    "-->\n",
    "<!-- EXPORT TO PDF -->"
   ]
  },
  {
   "cell_type": "markdown",
   "metadata": {},
   "source": [
    "**YOUR SOLUTION HERE**"
   ]
  },
  {
   "cell_type": "markdown",
   "metadata": {
    "deletable": false,
    "editable": false
   },
   "source": [
    "## Question 5: Revisiting Recommender System\n",
    "\n",
    "### Question 5.a: Using Linear Algebra for Optimization\n",
    "In recommender system module, low-rank matrix factorization was used to execute latent factor modeling of movie ratings data.\n",
    "\n",
    "Specifically, we calculated matrices $U$ and $V$ to solve the following optimization problem (if all ratings were given):\n",
    "$$\n",
    "\\begin{aligned}\n",
    "\\min_{U,V} f(U,V) &= \\min_{U,V} \\|R - V U^T\\|_F^2\n",
    "=\\min_{U,V} \\left\\{ \\sum_{m=1}^M\\sum_{i=1}^I (r_{mi} - v_m u_i^T)^2 \\right\\}.\n",
    "\\end{aligned}\n",
    "$$\n",
    "The best $U$ and $V$ were calculated iteratively by improving on current estimates:\n",
    "$$\n",
    "\\begin{aligned}\n",
    "u_i^{\\text{new}} &= u_i + 2\\alpha(r_{mi} -  v_m u_i^T)\\cdot v_m\\\\\n",
    "v_m^{\\text{new}} &= v_m + 2\\alpha(r_{mi} -  v_m u_i^T)\\cdot u_i,\n",
    "\\end{aligned}\n",
    "$$\n",
    "where $\\alpha$ is the step-size that is to be chosen by the user. (We won't discuss the role in this class, but treat it as an arbitrary, but given, parameter) \n",
    "\n",
    "We can make calculating the updates more efficient by calculating them with matrix operations. For example, instead of calculating each deviation $\\gamma_{mi} = r_{mi} - v_m u_i^T$ separately for all $m=1,2,\\dots,M$ and $i=1,2,\\dots,I$, matrix $\\Gamma$ of all deviations can be computed together using matrix operation _(verify for yourself)_:\n",
    "$$\\Gamma = R - VU^T$$\n",
    "\n",
    "Similarly, updating $U$ and $V$ can be combined into matrix calculations which makes the optimization procedure more efficient.\n",
    "\n",
    "First, note that updates for $u_i$, $i=1,2,\\dots,I$ can be rewritten as\n",
    "$$\n",
    "\\begin{aligned}\n",
    "u_1^{\\text{new}} &= u_1 + 2\\alpha\\gamma_{m1}\\cdot v_m\\\\\n",
    "u_2^{\\text{new}} &= u_2 + 2\\alpha\\gamma_{m2}\\cdot v_m\\\\\n",
    "\\vdots\\quad &\\qquad\\qquad\\vdots\\\\\n",
    "u_I^{\\text{new}} &= u_I + 2\\alpha\\gamma_{mI}\\cdot v_m.\n",
    "\\end{aligned}\n",
    "$$\n",
    "Stacking all $I$ equations into a matrix form, \n",
    "$$\n",
    "\\begin{aligned}\n",
    "U^{\\text{new}} &= U + 2\\alpha\\Gamma_{m-}^T v_m,\n",
    "\\end{aligned}\n",
    "$$\n",
    "where $\\Gamma_{m-}$ is the $m$-th row of $\\Gamma$ (use the notation $\\Gamma_{-i}$ for the $i$-th column). \n",
    "\n",
    "Note that there are $M$ such update equations (one for each $m=1,2,\\dots,M$) that can also be combined into one matrix update equation involving matrices $U$, $V$, $\\Gamma$ and scalars. As stated earlier, since $\\alpha$ is assumed to be an arbitrary step-size parameter, we can replace $\\alpha/M$ with $\\alpha$.\n",
    "\n",
    "Complete the following update equations:\n",
    "$$\n",
    "\\begin{aligned}\n",
    "U^{\\text{new}} &= U + 2\\alpha[\\text{some function of }\\Gamma][\\text{some function of }V]\\\\\n",
    "V^{\\text{new}} &= V + 2\\alpha[\\text{some function of }\\Gamma][\\text{some function of }U]\n",
    "\\end{aligned}\n",
    "$$\n",
    "\n",
    "<!--\n",
    "BEGIN QUESTION\n",
    "name: q5a\n",
    "manual: true\n",
    "points: 4\n",
    "-->\n",
    "<!-- EXPORT TO PDF -->"
   ]
  },
  {
   "cell_type": "markdown",
   "metadata": {},
   "source": [
    "**YOUR SOLUTION HERE**"
   ]
  },
  {
   "cell_type": "markdown",
   "metadata": {
    "deletable": false,
    "editable": false
   },
   "source": [
    "### Question 5.b: Implementing Updates\n",
    "\n",
    "Define three functions:\n",
    "\n",
    "* `update_G(R, U, V)`: computes deviation $R-VU^T$\n",
    "* `update_U(G, U, V, alpha=0.01)`: calculates update $U^{\\text{new}}$\n",
    "* `update_V(G, U, V, alpha=0.01)`: calculates update $V^{\\text{new}}$\n",
    "\n",
    "Each function should only be one line of matrix operations. Since some elements of `R` are `np.nan` for any missing ratings, `update_U` and `update_V` functions need to be adjusted by using `numpy.nan_to_num` function where appropriate.\n",
    "\n",
    "<!--\n",
    "BEGIN QUESTION\n",
    "name: q5b\n",
    "manual: false\n",
    "points: 4\n",
    "-->"
   ]
  },
  {
   "cell_type": "code",
   "execution_count": 43,
   "metadata": {},
   "outputs": [],
   "source": [
    "def update_G(R_, U_, V_):\n",
    "    \n",
    "    return ...\n",
    "\n",
    "def update_U(G_, U_, V_, alpha=0.01):\n",
    "    \n",
    "    return ...\n",
    "\n",
    "def update_V(G_, U_, V_, alpha=0.01):\n",
    "    \n",
    "    return ...\n",
    "\n",
    "# small test to help debug (keep intact)\n",
    "np.random.seed(1)\n",
    "\n",
    "M_ = 5\n",
    "I_ = 3\n",
    "K_ = 2\n",
    "\n",
    "R_ = np.random.rand(M_, I_).round(1)\n",
    "R_[0, 0] = R_[3, 2] = np.nan\n",
    "U_ = np.random.rand(I_, K_).round(1)\n",
    "V_ = np.random.rand(M_, K_).round(1)\n",
    "G_ = update_G(R_, U_, V_)"
   ]
  },
  {
   "cell_type": "markdown",
   "metadata": {},
   "source": [
    "### Question 5.c: Construct Optimization Algorithm\n",
    "\n",
    "Combine the above functions to implement the optimization algorithm to iteratively compute $U$ and $V$.\n",
    "\n",
    "But, first, here are functions that will calculate RMSE and quantify the maximum update (in absolute value) made by `update_U` and `update_V` after they are called."
   ]
  },
  {
   "cell_type": "code",
   "execution_count": 47,
   "metadata": {},
   "outputs": [],
   "source": [
    "def rmse(X):\n",
    "    \"\"\"\n",
    "    Computes root-mean-square-error, ignoring nan values\n",
    "    \"\"\"\n",
    "    return np.sqrt(np.nanmean(X**2))\n",
    "\n",
    "def max_update(X, Y, relative=True):\n",
    "    \"\"\"\n",
    "    Compute elementwise maximum update\n",
    "    \n",
    "    parameters:\n",
    "    - X, Y: numpy arrays or vectors\n",
    "    - relative: [True] compute relative magnitudes\n",
    "    \n",
    "    returns\n",
    "    - maximum difference between X and Y (relative to Y) \n",
    "    \n",
    "    \"\"\"\n",
    "    if relative:\n",
    "        updates = np.nan_to_num((X - Y)/Y)\n",
    "    else:\n",
    "        updates = np.nan_to_num(X - Y)\n",
    "            \n",
    "    return np.linalg.norm(updates.ravel(), np.inf)"
   ]
  },
  {
   "cell_type": "markdown",
   "metadata": {
    "deletable": false,
    "editable": false
   },
   "source": [
    "A template for the optimization algorithm is given below. Fill-in the missing portions to complete the algorithm.\n",
    "\n",
    "<!--\n",
    "BEGIN QUESTION\n",
    "name: q5c1\n",
    "manual: false\n",
    "points: 4\n",
    "-->"
   ]
  },
  {
   "cell_type": "code",
   "execution_count": 49,
   "metadata": {},
   "outputs": [],
   "source": [
    "def compute_UV(Rdf, K=5, alpha=0.01, max_iteration=5000, diff_thr=1e-3):\n",
    "\n",
    "    R = Rdf.values\n",
    "    Rone = Rdf.replace(Rdf, 1) # keep data frame metadata\n",
    "\n",
    "    M, I = R.shape            # number of movies and users\n",
    "    U = np.random.rand(I, K)  # initialize with random numbers\n",
    "    V = np.random.rand(M, K)  # initialize with random numbers\n",
    "    G = update_G(R, U, V)     # calculate residual\n",
    "\n",
    "    track_rmse = []\n",
    "    track_update = []\n",
    "    for i in range(0, max_iteration): \n",
    "        \n",
    "        Unew = update_U(..., ..., ..., ...)\n",
    "        Gnew = update_G(..., ..., ...)\n",
    "\n",
    "        Vnew = update_V(..., ..., ..., ...)\n",
    "        Gnew = update_G(..., ..., ...)\n",
    "\n",
    "        track_rmse += [{\n",
    "            'iteration':i, \n",
    "            'rmse': rmse(Gnew),\n",
    "            'max residual change': max_update(Gnew, G, relative=False)\n",
    "        }]\n",
    "        track_update += [{\n",
    "            'iteration':i, \n",
    "            'max update':max(max_update(Unew, U), max_update(Vnew, V))\n",
    "        }]\n",
    "\n",
    "        U = Unew\n",
    "        V = Vnew\n",
    "        G = Gnew\n",
    "        \n",
    "        if track_update[-1]['max update'] < diff_thr:\n",
    "            break\n",
    "        \n",
    "    track_rmse = pd.DataFrame(track_rmse)\n",
    "    track_update = pd.DataFrame(track_update)\n",
    "    \n",
    "    kindex = pd.Index(range(0, K), name='k')\n",
    "    U = pd.DataFrame(U, index=..., columns=...)\n",
    "    V = pd.DataFrame(V, index=..., columns=...)\n",
    "    \n",
    "    return {\n",
    "        'U':U, 'V':V,\n",
    "        'rmse': track_rmse,\n",
    "        'update': track_update\n",
    "    }\n",
    " \n",
    "Rsmall = pd.read_pickle('ratings_stacked_small.pkl').unstack()\n",
    "\n",
    "np.random.seed(134) # set seed for tests\n",
    "output1 = compute_UV(Rsmall, K=10, alpha=0.001)"
   ]
  },
  {
   "cell_type": "markdown",
   "metadata": {
    "deletable": false,
    "editable": false
   },
   "source": [
    "Running the function on a different sized problem to check if `compute_UV` adapts to changing problem sizes.\n",
    "There is nothing new to do here\n",
    "\n",
    "<!--\n",
    "BEGIN QUESTION\n",
    "name: q5c2\n",
    "manual: false\n",
    "points: 4\n",
    "-->"
   ]
  },
  {
   "cell_type": "code",
   "execution_count": 57,
   "metadata": {},
   "outputs": [],
   "source": [
    "# These tests should pass if `compute_UV` works properly\n",
    "np.random.seed(134) # set seed for tests\n",
    "output2 = compute_UV(Rsmall.iloc[:7, :5], K=8)"
   ]
  },
  {
   "cell_type": "markdown",
   "metadata": {},
   "source": [
    "### Question 5.d: Interpret Diagnostic Plots\n",
    "\n",
    "Following figures tell us if the optimization algorithm is working properly."
   ]
  },
  {
   "cell_type": "code",
   "execution_count": 65,
   "metadata": {},
   "outputs": [],
   "source": [
    "import altair as alt\n",
    "logscale = alt.Scale(type='log', base=10)\n",
    "fig_rmse = \\\n",
    "    alt.Chart(output1['rmse'])\\\n",
    "    .mark_line()\\\n",
    "    .encode(\n",
    "        x='iteration:Q', \n",
    "        y=alt.Y('rmse:Q', scale=logscale)\n",
    "    )\n",
    "fig_max_residual_change = \\\n",
    "    alt.Chart(output1['rmse'])\\\n",
    "    .mark_line()\\\n",
    "    .encode(\n",
    "        x='iteration:Q', \n",
    "        y=alt.Y('max residual change:Q', scale=logscale)\n",
    "    )\n",
    "fig_updates = \\\n",
    "    alt.Chart(output1['update'])\\\n",
    "    .mark_line()\\\n",
    "    .encode(\n",
    "        x='iteration:Q', \n",
    "        y=alt.Y('max update:Q', scale=logscale)\n",
    "    )\n",
    "alt.vconcat(\n",
    "    fig_rmse | fig_max_residual_change,\n",
    "    fig_updates \n",
    ")"
   ]
  },
  {
   "cell_type": "markdown",
   "metadata": {
    "deletable": false,
    "editable": false
   },
   "source": [
    "By referring back to the function used to calculate the quantities in each figure, describe what each figure is showing and interpret the behavior of the optimization algorithm.\n",
    "\n",
    "<!--\n",
    "BEGIN QUESTION\n",
    "name: q5d\n",
    "manual: true\n",
    "points: 4\n",
    "-->\n",
    "<!-- EXPORT TO PDF -->"
   ]
  },
  {
   "cell_type": "markdown",
   "metadata": {},
   "source": [
    "**YOUR SOLUTION HERE**"
   ]
  },
  {
   "cell_type": "markdown",
   "metadata": {
    "deletable": false,
    "editable": false
   },
   "source": [
    "### Question 5.e: Logistic function \n",
    "\n",
    "Note the reconstructed ratings can be smaller than 1 and greater than 5. To confine ratings to between the allowed range, we can use the logistic function. Logistic function is defined as \n",
    "$$ h(x) = \\frac{1}{1+e^{-x}}. $$\n",
    "It is straightforward to show the derivative is \n",
    "$$ h'(x) = \\frac{e^{-x}}{1+e^{-x}} = h(x)(1-h(x)). $$\n",
    "Therefore, we can rescale the ratings from $r_{mi}\\in [1, 5]$ to $r_{mi}\\in [0, 1]$. Then, we can find the best $U$ and $V$ to optimize the following:\n",
    "$$ \\min_{U,V} \\| R - h(VU^T) \\|_F^2 = \\sum_{m,i} (r_{mi} - h(v_m u_i^T))^2, $$\n",
    "where function $h$ is applied elementwise.\n",
    "\n",
    "According to the new objective function, rewrite update functions\n",
    "\n",
    "<!--\n",
    "BEGIN QUESTION\n",
    "name: q5e1\n",
    "manual: false\n",
    "points: 4\n",
    "-->"
   ]
  },
  {
   "cell_type": "code",
   "execution_count": 66,
   "metadata": {},
   "outputs": [],
   "source": [
    "def logistic(x):\n",
    "    \"\"\"\n",
    "    Evaluates logistic function\n",
    "    \n",
    "    \"\"\"\n",
    "    return 1/(1+np.exp(-x))\n",
    "\n",
    "def update_logistic_G(R_, U_, V_):\n",
    "    \n",
    "    return ...\n",
    "\n",
    "def update_logistic_U(G_, U_, V_, alpha=0.01):\n",
    "    \n",
    "    logisticVUT = ...              # estimated ratings\n",
    "    grad = -2 * np.nan_to_num(...) # gradient direction\n",
    "    return ...                     # gradient descent update from U_\n",
    "\n",
    "def update_logistic_V(G_, U_, V_, alpha=0.01):\n",
    "    \n",
    "    logisticVUT = ...              # estimated ratings\n",
    "    grad = -2 * np.nan_to_num(...) # gradient direction\n",
    "    return ...                     # gradient descent update from V_\n",
    "\n",
    "# small test to help debug (keep intact)\n",
    "np.random.seed(1)\n",
    "\n",
    "M_ = 5\n",
    "I_ = 3\n",
    "K_ = 2\n",
    "\n",
    "R_ = np.random.rand(M_, I_).round(1)\n",
    "R_[0, 0] = R_[3, 2] = np.nan\n",
    "U_ = np.random.rand(I_, K_).round(1)\n",
    "V_ = np.random.rand(M_, K_).round(1)\n",
    "G_ = update_G(R_, U_, V_)"
   ]
  },
  {
   "cell_type": "markdown",
   "metadata": {
    "deletable": false,
    "editable": false
   },
   "source": [
    "Now create a function `compute_logistic_UV` below:\n",
    "\n",
    "<!--\n",
    "BEGIN QUESTION\n",
    "name: q5e2\n",
    "manual: false\n",
    "points: 4\n",
    "-->"
   ]
  },
  {
   "cell_type": "code",
   "execution_count": 70,
   "metadata": {},
   "outputs": [],
   "source": [
    "def compute_logistic_UV(Rdf, K=5, alpha=0.01, max_iteration=5000, diff_thr=1e-3):\n",
    "\n",
    "    R = Rdf.values\n",
    "    R = (R.copy()-1)/4         # map ratings to between 0 and 1\n",
    "    Rone = Rdf.replace(Rdf, 1) # keep data frame metadata\n",
    "\n",
    "    M, I = R.shape                 # number of movies and users\n",
    "    U = np.random.rand(I, K)-0.5   # initialize with random numbers\n",
    "    V = np.random.rand(M, K)-0.5   # initialize with random numbers\n",
    "    G = update_G(R, U, V)          # calculate residual\n",
    "\n",
    "    track_rmse = []\n",
    "    track_update = []\n",
    "    for i in range(0, max_iteration): \n",
    "        \n",
    "        Unew = update_logistic_U(..., ..., ..., ...)\n",
    "        Gnew = update_logistic_G(..., ..., ...)\n",
    "\n",
    "        Vnew = update_logistic_V(..., ..., ..., ...)\n",
    "        Gnew = update_logistic_G(..., ..., ...)\n",
    "\n",
    "        track_rmse += [{\n",
    "            'iteration':i, \n",
    "            'rmse': rmse(Gnew),\n",
    "            'max residual change': max_update(Gnew, G, relative=False)\n",
    "        }]\n",
    "        track_update += [{\n",
    "            'iteration':i, \n",
    "            'max update':max(max_update(Unew, U), max_update(Vnew, V))\n",
    "        }]\n",
    "\n",
    "        U = Unew\n",
    "        V = Vnew\n",
    "        G = Gnew\n",
    "        \n",
    "        if track_update[-1]['max update'] < diff_thr:\n",
    "            break\n",
    "        \n",
    "    track_rmse = pd.DataFrame(track_rmse)\n",
    "    track_update = pd.DataFrame(track_update)\n",
    "    \n",
    "    kindex = pd.Index(range(0, K), name='k')\n",
    "    U = pd.DataFrame(U, index=..., columns=...)\n",
    "    V = pd.DataFrame(V, index=..., columns=...)\n",
    "    \n",
    "    return {\n",
    "        'U':U, 'V':V,\n",
    "        'rmse': track_rmse,\n",
    "        'update': track_update\n",
    "    }\n",
    "\n",
    "def logistic_rating(U_, V_):\n",
    "    \"\"\"\n",
    "    converts the rating back to 1 to 5 rating\n",
    "    \"\"\"\n",
    "    return( 4*logistic(V_@U_.T) + 1 )\n",
    "    \n",
    "np.random.seed(134) # set seed for tests\n",
    "output3 = compute_logistic_UV(Rsmall, K=10, alpha=0.05)"
   ]
  },
  {
   "cell_type": "markdown",
   "metadata": {},
   "source": [
    "### Question 5.f: Analyze Large Dataset\n",
    "\n",
    "Following code will analyze a larger dataset:"
   ]
  },
  {
   "cell_type": "code",
   "execution_count": 74,
   "metadata": {},
   "outputs": [],
   "source": [
    "# * ratings.pkl: https://ucsb.box.com/shared/static/gi06k2ymeq08bg6253dyrcroepqdmjub.pkl\n",
    "# * movies.pkl: https://ucsb.box.com/shared/static/9buqthgoy1bbri959zvweim5p7a05hmn.pkl\n",
    "# * ratings_small.pkl: https://ucsb.box.com/shared/static/qrqvcj2ie1awpr94oxrseshrtufjlquv.pkl\n",
    "# * users.pkl: https://ucsb.box.com/shared/static/p8rbbinbl2yks9jgv57qd8m4t3u0n5qp.pkl\n",
    "\n",
    "# run on larger dataset: ratings for 100 movies \n",
    "Rbig = pd.read_pickle('ratings_stacked.pkl').unstack().iloc[:100]\n",
    "\n",
    "np.random.seed(14) # set seed for tests\n",
    "output4 = compute_logistic_UV(Rbig, K=5, alpha=0.05, max_iteration=500)\n",
    "\n",
    "Rhatbig = logistic_rating(output4['U'], output4['V'])"
   ]
  },
  {
   "cell_type": "code",
   "execution_count": 75,
   "metadata": {},
   "outputs": [],
   "source": [
    "fit_vs_obs = pd.concat([\n",
    "    Rhatbig.rename(columns={'rating':'fit'}),\n",
    "    Rbig.rename(columns={'rating':'observed'}),\n",
    "], axis=1).stack().dropna().reset_index()[['fit','observed']]\n",
    "\n",
    "fit_vs_obs = fit_vs_obs.iloc[np.random.choice(len(fit_vs_obs), 5000)]\n",
    "\n",
    "alt.Chart(fit_vs_obs).transform_density(\n",
    "    density='fit',\n",
    "    bandwidth=0.2,\n",
    "    groupby=['observed'],\n",
    "    extent= [1, 5]\n",
    ").mark_area().encode(\n",
    "    alt.X('value:Q', ),\n",
    "    alt.Y('density:Q'),\n",
    "    alt.Row('observed:N', )\n",
    ").properties(width=400, height=50)"
   ]
  },
  {
   "cell_type": "markdown",
   "metadata": {
    "deletable": false,
    "editable": false
   },
   "source": [
    "Consider the above plot. By reading the code, comment on what the plot is illustrating. What happens when you add `counts=True` to `transform_density`? What can you conclude?\n",
    "\n",
    "<!--\n",
    "BEGIN QUESTION\n",
    "name: q5f\n",
    "manual: true\n",
    "points: 4\n",
    "-->\n",
    "<!-- EXPORT TO PDF -->"
   ]
  },
  {
   "cell_type": "markdown",
   "metadata": {},
   "source": [
    "**YOUR SOLUTION HERE**"
   ]
  },
  {
   "cell_type": "markdown",
   "metadata": {
    "deletable": false,
    "editable": false
   },
   "source": [
    "### Question 5.g: Make Recommendation\n",
    "\n",
    "What movies would you recommend to `user id` 601? Do you see any similarities to movies the user rated high?\n",
    "\n",
    "<!--\n",
    "BEGIN QUESTION\n",
    "name: q5g\n",
    "manual: true\n",
    "points: 4\n",
    "-->\n",
    "<!-- EXPORT TO PDF -->"
   ]
  },
  {
   "cell_type": "markdown",
   "metadata": {},
   "source": [
    "**YOUR SOLUTION HERE**"
   ]
  },
  {
   "cell_type": "markdown",
   "metadata": {
    "deletable": false,
    "editable": false
   },
   "source": [
    "# Running Built-in Tests\n",
    "1. All tests are in `tests` directory\n",
    "1. Each python file in `tests` is a test\n",
    "1. `grader.check('testname')` runs test `'testname'`, e.g. `'q1'`\n",
    "1. `grader.check_all()` runs all visible tests"
   ]
  },
  {
   "cell_type": "code",
   "execution_count": null,
   "metadata": {
    "deletable": false,
    "editable": false
   },
   "outputs": [],
   "source": [
    "# Run built-in checks\n",
    "grader.check_all()"
   ]
  },
  {
   "cell_type": "code",
   "execution_count": null,
   "metadata": {},
   "outputs": [],
   "source": [
    "# Uncomment to generate pdf in classic notebook (does not work in JupyterLab):\n",
    "# import nb2pdf\n",
    "# nb2pdf.convert('assignment4.ipynb')\n",
    "\n",
    "# Uncomment to generate pdf using command-line tool:\n",
    "# ! nb2pdf assignment4.ipynb"
   ]
  },
  {
   "cell_type": "markdown",
   "metadata": {
    "deletable": false,
    "editable": false
   },
   "source": [
    "# Submission Checklist\n",
    "1. Check filename is `assignment4.ipynb`\n",
    "1. Save file to confirm all changes are on disk\n",
    "1. Run *Kernel > Restart & Run All* to execute all code from top to bottom\n",
    "1. Check `grader.check_all()` output\n",
    "1. Save file again to write any new output to disk\n",
    "1. Check generated pdf that all responses are displayed correctly\n",
    "1. Submit `assignment4.ipynb` and `assignment4.pdf` to Gradescope"
   ]
  }
 ],
 "metadata": {
  "kernelspec": {
   "display_name": "Python 3",
   "language": "python",
   "name": "python3"
  },
  "language_info": {
   "codemirror_mode": {
    "name": "ipython",
    "version": 3
   },
   "file_extension": ".py",
   "mimetype": "text/x-python",
   "name": "python",
   "nbconvert_exporter": "python",
   "pygments_lexer": "ipython3",
   "version": "3.7.4"
  },
  "toc": {
   "base_numbering": 1,
   "nav_menu": {},
   "number_sections": false,
   "sideBar": true,
   "skip_h1_title": false,
   "title_cell": "Table of Contents",
   "title_sidebar": "Contents",
   "toc_cell": false,
   "toc_position": {
    "height": "calc(100% - 180px)",
    "left": "10px",
    "top": "150px",
    "width": "324.667px"
   },
   "toc_section_display": true,
   "toc_window_display": true
  }
 },
 "nbformat": 4,
 "nbformat_minor": 4
}
