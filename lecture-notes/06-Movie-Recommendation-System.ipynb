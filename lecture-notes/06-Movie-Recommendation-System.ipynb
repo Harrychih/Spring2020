{
 "cells": [
  {
   "cell_type": "markdown",
   "metadata": {
    "slideshow": {
     "slide_type": "slide"
    }
   },
   "source": [
    "# Movie Lense Recommender system <a class='tocskip'>\n",
    "\n",
    "## Sang-Yun Oh <a class='tocskip'>"
   ]
  },
  {
   "cell_type": "markdown",
   "metadata": {
    "slideshow": {
     "slide_type": "slide"
    }
   },
   "source": [
    "We will build a basic recommender system using [Movie Lense 100K dataset](https://grouplens.org/datasets/movielens/).\n",
    "\n",
    "## Downloading data"
   ]
  },
  {
   "cell_type": "code",
   "execution_count": 1,
   "metadata": {
    "slideshow": {
     "slide_type": "fragment"
    }
   },
   "outputs": [
    {
     "name": "stdout",
     "output_type": "stream",
     "text": [
      "--2019-10-28 17:40:36--  http://files.grouplens.org/datasets/movielens/ml-100k.zip\n",
      "Resolving files.grouplens.org (files.grouplens.org)... 128.101.65.152\n",
      "Connecting to files.grouplens.org (files.grouplens.org)|128.101.65.152|:80... connected.\n",
      "HTTP request sent, awaiting response... 200 OK\n",
      "Length: 4924029 (4.7M) [application/zip]\n",
      "Saving to: ‘movie-lense.zip’\n",
      "\n",
      "movie-lense.zip     100%[===================>]   4.70M  2.99MB/s    in 1.6s    \n",
      "\n",
      "2019-10-28 17:40:38 (2.99 MB/s) - ‘movie-lense.zip’ saved [4924029/4924029]\n",
      "\n",
      "Archive:  movie-lense.zip\n",
      "  inflating: ml-100k/allbut.pl       \n",
      "  inflating: ml-100k/mku.sh          \n",
      "  inflating: ml-100k/README          \n",
      "  inflating: ml-100k/u.data          \n",
      "  inflating: ml-100k/u.genre         \n",
      "  inflating: ml-100k/u.info          \n",
      "  inflating: ml-100k/u.item          \n",
      "  inflating: ml-100k/u.occupation    \n",
      "  inflating: ml-100k/u.user          \n",
      "  inflating: ml-100k/u1.base         \n",
      "  inflating: ml-100k/u1.test         \n",
      "  inflating: ml-100k/u2.base         \n",
      "  inflating: ml-100k/u2.test         \n",
      "  inflating: ml-100k/u3.base         \n",
      "  inflating: ml-100k/u3.test         \n",
      "  inflating: ml-100k/u4.base         \n",
      "  inflating: ml-100k/u4.test         \n",
      "  inflating: ml-100k/u5.base         \n",
      "  inflating: ml-100k/u5.test         \n",
      "  inflating: ml-100k/ua.base         \n",
      "  inflating: ml-100k/ua.test         \n",
      "  inflating: ml-100k/ub.base         \n",
      "  inflating: ml-100k/ub.test         \n"
     ]
    }
   ],
   "source": [
    "!wget http://files.grouplens.org/datasets/movielens/ml-100k.zip -O movie-lense.zip\\\n",
    "    && unzip -o movie-lense.zip"
   ]
  },
  {
   "cell_type": "markdown",
   "metadata": {
    "slideshow": {
     "slide_type": "slide"
    }
   },
   "source": [
    "## Importing Data\n",
    "\n",
    "### Movie Lense Metadata\n",
    "\n",
    "`README` file contains metadata. Relevant lines are:\n",
    "\n",
    "* `u.data`: The full u data set, 100000 ratings by 943 users on 1682 items \n",
    "    ```\n",
    "    user id | item id | rating | timestamp\n",
    "    ```\n",
    "\n",
    "* `u.item`: Information about the items (movies).\n",
    "    ```\n",
    "    movie id | movie title | release date | video release date |\n",
    "    IMDb URL | unknown | Action | Adventure | Animation |\n",
    "    Children's | Comedy | Crime | Documentary | Drama | Fantasy |\n",
    "    Film-Noir | Horror | Musical | Mystery | Romance | Sci-Fi |\n",
    "    Thriller | War | Western |\n",
    "    ```\n",
    "\n",
    "* `u.genre`: A list of the genres.\n",
    "\n",
    "* `u.user`: Demographic information about the users;\n",
    "    ```\n",
    "    user id | age | gender | occupation | zip code\n",
    "    ```\n",
    "\n",
    "* `u.occupation`: A list of the occupations."
   ]
  },
  {
   "cell_type": "code",
   "execution_count": 2,
   "metadata": {
    "slideshow": {
     "slide_type": "subslide"
    }
   },
   "outputs": [
    {
     "name": "stdout",
     "output_type": "stream",
     "text": [
      "196\t242\t3\t881250949\r\n",
      "186\t302\t3\t891717742\r\n",
      "22\t377\t1\t878887116\r\n"
     ]
    }
   ],
   "source": [
    "!head -n3 ml-100k/u.data"
   ]
  },
  {
   "cell_type": "code",
   "execution_count": 3,
   "metadata": {
    "slideshow": {
     "slide_type": "-"
    }
   },
   "outputs": [
    {
     "name": "stdout",
     "output_type": "stream",
     "text": [
      "1|24|M|technician|85711\r\n",
      "2|53|F|other|94043\r\n",
      "3|23|M|writer|32067\r\n"
     ]
    }
   ],
   "source": [
    "!head -n3 ml-100k/u.user"
   ]
  },
  {
   "cell_type": "code",
   "execution_count": 4,
   "metadata": {
    "slideshow": {
     "slide_type": "-"
    }
   },
   "outputs": [
    {
     "name": "stdout",
     "output_type": "stream",
     "text": [
      "1|Toy Story (1995)|01-Jan-1995||http://us.imdb.com/M/title-exact?Toy%20Story%20(1995)|0|0|0|1|1|1|0|0|0|0|0|0|0|0|0|0|0|0|0\r\n",
      "2|GoldenEye (1995)|01-Jan-1995||http://us.imdb.com/M/title-exact?GoldenEye%20(1995)|0|1|1|0|0|0|0|0|0|0|0|0|0|0|0|0|1|0|0\r\n",
      "3|Four Rooms (1995)|01-Jan-1995||http://us.imdb.com/M/title-exact?Four%20Rooms%20(1995)|0|0|0|0|0|0|0|0|0|0|0|0|0|0|0|0|1|0|0\r\n"
     ]
    }
   ],
   "source": [
    "!head -n3 ml-100k/u.item"
   ]
  },
  {
   "cell_type": "code",
   "execution_count": 5,
   "metadata": {
    "slideshow": {
     "slide_type": "skip"
    }
   },
   "outputs": [],
   "source": [
    "import pandas as pd\n",
    "import numpy as np\n",
    "\n",
    "%matplotlib inline\n",
    "import seaborn as sns\n",
    "import matplotlib.pyplot as plt\n",
    "\n",
    "from pathlib import Path"
   ]
  },
  {
   "cell_type": "markdown",
   "metadata": {
    "slideshow": {
     "slide_type": "subslide"
    }
   },
   "source": [
    "### Importing to Pandas DataFrame"
   ]
  },
  {
   "cell_type": "code",
   "execution_count": 6,
   "metadata": {
    "slideshow": {
     "slide_type": "-"
    }
   },
   "outputs": [],
   "source": [
    "ratings_list = [l.split('\\t') for l in Path('ml-100k/u.data').read_text().split('\\n')]\n",
    "users_list   = [l.split('|')  for l in Path('ml-100k/u.user').read_text().split('\\n')]\n",
    "movies_list  = [l.split('|')  for l in Path('ml-100k/u.item').read_text(encoding = \"ISO-8859-1\").split('\\n')]"
   ]
  },
  {
   "cell_type": "markdown",
   "metadata": {
    "slideshow": {
     "slide_type": "-"
    }
   },
   "source": [
    "Each file is read into a list, where each item is another list of items for one row."
   ]
  },
  {
   "cell_type": "markdown",
   "metadata": {
    "slideshow": {
     "slide_type": "subslide"
    }
   },
   "source": [
    "Converting each list to a data frame, clean up, and set correct data types."
   ]
  },
  {
   "cell_type": "code",
   "execution_count": 7,
   "metadata": {
    "slideshow": {
     "slide_type": "-"
    }
   },
   "outputs": [],
   "source": [
    "ratings = pd.DataFrame(\n",
    "    ratings_list,\n",
    "    columns='user id | item id | rating | timestamp'.split(' | '),\n",
    ").dropna().astype(\n",
    "    {'user id':'str', 'item id':'str', 'rating':'int', 'timestamp':'int'}\n",
    ")\n",
    "\n",
    "users = pd.DataFrame(\n",
    "    users_list,\n",
    "    columns='user id | age | gender | occupation | zip code'.split(' | '),\n",
    ").dropna().astype(\n",
    "    {'user id':'str', 'age':'str', 'gender':'str', 'occupation':'str', 'zip code':'str'}\n",
    ").set_index('user id')\n",
    "\n",
    "movies = pd.DataFrame(\n",
    "    movies_list,\n",
    "    columns='movie id | movie title | release date | video release date | '\\\n",
    "        'IMDb URL | unknown | Action | Adventure | Animation | '\\\n",
    "        'Children\\'s | Comedy | Crime | Documentary | Drama | Fantasy | '\\\n",
    "        'Film-Noir | Horror | Musical | Mystery | Romance | Sci-Fi | '\\\n",
    "        'Thriller | War | Western'.split(' | '),\n",
    ").dropna()\n",
    "\n",
    "d = {'movie id':'str', 'movie title':'str', 'release date':'str', 'video release date':'str', 'IMDb URL':'str'}\n",
    "d.update([(g, bool) for g in movies.columns.values[-19:]]) \n",
    "\n",
    "movies = movies.astype(d).set_index('movie id')"
   ]
  },
  {
   "cell_type": "markdown",
   "metadata": {
    "slideshow": {
     "slide_type": "slide"
    }
   },
   "source": [
    "## Transforming Data\n",
    "\n",
    "### Create Ratings: Pivot Table\n",
    "\n",
    "* Create a matrix of ratings: $R = (r_{im})$ for individuals, $i$, and movies, $m$\n",
    "* Individuals: $i=1,2,\\dots,I$\n",
    "* Movies: $m=1,2,\\dots,M$"
   ]
  },
  {
   "cell_type": "code",
   "execution_count": 8,
   "metadata": {
    "slideshow": {
     "slide_type": "-"
    }
   },
   "outputs": [],
   "source": [
    "R = ratings.pivot(index = 'user id', columns ='item id', values = 'rating').fillna(0)"
   ]
  },
  {
   "cell_type": "code",
   "execution_count": 9,
   "metadata": {
    "slideshow": {
     "slide_type": "subslide"
    }
   },
   "outputs": [
    {
     "data": {
      "text/html": [
       "<div>\n",
       "<style scoped>\n",
       "    .dataframe tbody tr th:only-of-type {\n",
       "        vertical-align: middle;\n",
       "    }\n",
       "\n",
       "    .dataframe tbody tr th {\n",
       "        vertical-align: top;\n",
       "    }\n",
       "\n",
       "    .dataframe thead th {\n",
       "        text-align: right;\n",
       "    }\n",
       "</style>\n",
       "<table border=\"1\" class=\"dataframe\">\n",
       "  <thead>\n",
       "    <tr style=\"text-align: right;\">\n",
       "      <th>item id</th>\n",
       "      <th>1</th>\n",
       "      <th>2</th>\n",
       "      <th>3</th>\n",
       "      <th>4</th>\n",
       "      <th>5</th>\n",
       "      <th>6</th>\n",
       "      <th>7</th>\n",
       "      <th>8</th>\n",
       "      <th>9</th>\n",
       "      <th>10</th>\n",
       "      <th>...</th>\n",
       "      <th>1673</th>\n",
       "      <th>1674</th>\n",
       "      <th>1675</th>\n",
       "      <th>1676</th>\n",
       "      <th>1677</th>\n",
       "      <th>1678</th>\n",
       "      <th>1679</th>\n",
       "      <th>1680</th>\n",
       "      <th>1681</th>\n",
       "      <th>1682</th>\n",
       "    </tr>\n",
       "    <tr>\n",
       "      <th>user id</th>\n",
       "      <th></th>\n",
       "      <th></th>\n",
       "      <th></th>\n",
       "      <th></th>\n",
       "      <th></th>\n",
       "      <th></th>\n",
       "      <th></th>\n",
       "      <th></th>\n",
       "      <th></th>\n",
       "      <th></th>\n",
       "      <th></th>\n",
       "      <th></th>\n",
       "      <th></th>\n",
       "      <th></th>\n",
       "      <th></th>\n",
       "      <th></th>\n",
       "      <th></th>\n",
       "      <th></th>\n",
       "      <th></th>\n",
       "      <th></th>\n",
       "      <th></th>\n",
       "    </tr>\n",
       "  </thead>\n",
       "  <tbody>\n",
       "    <tr>\n",
       "      <td>1</td>\n",
       "      <td>5.0</td>\n",
       "      <td>3.0</td>\n",
       "      <td>4.0</td>\n",
       "      <td>3.0</td>\n",
       "      <td>3.0</td>\n",
       "      <td>5.0</td>\n",
       "      <td>4.0</td>\n",
       "      <td>1.0</td>\n",
       "      <td>5.0</td>\n",
       "      <td>3.0</td>\n",
       "      <td>...</td>\n",
       "      <td>0.0</td>\n",
       "      <td>0.0</td>\n",
       "      <td>0.0</td>\n",
       "      <td>0.0</td>\n",
       "      <td>0.0</td>\n",
       "      <td>0.0</td>\n",
       "      <td>0.0</td>\n",
       "      <td>0.0</td>\n",
       "      <td>0.0</td>\n",
       "      <td>0.0</td>\n",
       "    </tr>\n",
       "    <tr>\n",
       "      <td>2</td>\n",
       "      <td>4.0</td>\n",
       "      <td>0.0</td>\n",
       "      <td>0.0</td>\n",
       "      <td>0.0</td>\n",
       "      <td>0.0</td>\n",
       "      <td>0.0</td>\n",
       "      <td>0.0</td>\n",
       "      <td>0.0</td>\n",
       "      <td>0.0</td>\n",
       "      <td>2.0</td>\n",
       "      <td>...</td>\n",
       "      <td>0.0</td>\n",
       "      <td>0.0</td>\n",
       "      <td>0.0</td>\n",
       "      <td>0.0</td>\n",
       "      <td>0.0</td>\n",
       "      <td>0.0</td>\n",
       "      <td>0.0</td>\n",
       "      <td>0.0</td>\n",
       "      <td>0.0</td>\n",
       "      <td>0.0</td>\n",
       "    </tr>\n",
       "    <tr>\n",
       "      <td>3</td>\n",
       "      <td>0.0</td>\n",
       "      <td>0.0</td>\n",
       "      <td>0.0</td>\n",
       "      <td>0.0</td>\n",
       "      <td>0.0</td>\n",
       "      <td>0.0</td>\n",
       "      <td>0.0</td>\n",
       "      <td>0.0</td>\n",
       "      <td>0.0</td>\n",
       "      <td>0.0</td>\n",
       "      <td>...</td>\n",
       "      <td>0.0</td>\n",
       "      <td>0.0</td>\n",
       "      <td>0.0</td>\n",
       "      <td>0.0</td>\n",
       "      <td>0.0</td>\n",
       "      <td>0.0</td>\n",
       "      <td>0.0</td>\n",
       "      <td>0.0</td>\n",
       "      <td>0.0</td>\n",
       "      <td>0.0</td>\n",
       "    </tr>\n",
       "    <tr>\n",
       "      <td>4</td>\n",
       "      <td>0.0</td>\n",
       "      <td>0.0</td>\n",
       "      <td>0.0</td>\n",
       "      <td>0.0</td>\n",
       "      <td>0.0</td>\n",
       "      <td>0.0</td>\n",
       "      <td>0.0</td>\n",
       "      <td>0.0</td>\n",
       "      <td>0.0</td>\n",
       "      <td>0.0</td>\n",
       "      <td>...</td>\n",
       "      <td>0.0</td>\n",
       "      <td>0.0</td>\n",
       "      <td>0.0</td>\n",
       "      <td>0.0</td>\n",
       "      <td>0.0</td>\n",
       "      <td>0.0</td>\n",
       "      <td>0.0</td>\n",
       "      <td>0.0</td>\n",
       "      <td>0.0</td>\n",
       "      <td>0.0</td>\n",
       "    </tr>\n",
       "    <tr>\n",
       "      <td>5</td>\n",
       "      <td>4.0</td>\n",
       "      <td>3.0</td>\n",
       "      <td>0.0</td>\n",
       "      <td>0.0</td>\n",
       "      <td>0.0</td>\n",
       "      <td>0.0</td>\n",
       "      <td>0.0</td>\n",
       "      <td>0.0</td>\n",
       "      <td>0.0</td>\n",
       "      <td>0.0</td>\n",
       "      <td>...</td>\n",
       "      <td>0.0</td>\n",
       "      <td>0.0</td>\n",
       "      <td>0.0</td>\n",
       "      <td>0.0</td>\n",
       "      <td>0.0</td>\n",
       "      <td>0.0</td>\n",
       "      <td>0.0</td>\n",
       "      <td>0.0</td>\n",
       "      <td>0.0</td>\n",
       "      <td>0.0</td>\n",
       "    </tr>\n",
       "  </tbody>\n",
       "</table>\n",
       "<p>5 rows × 1682 columns</p>\n",
       "</div>"
      ],
      "text/plain": [
       "item id    1    2    3    4    5    6    7    8    9   10  ...  1673  1674  \\\n",
       "user id                                                    ...               \n",
       "1        5.0  3.0  4.0  3.0  3.0  5.0  4.0  1.0  5.0  3.0  ...   0.0   0.0   \n",
       "2        4.0  0.0  0.0  0.0  0.0  0.0  0.0  0.0  0.0  2.0  ...   0.0   0.0   \n",
       "3        0.0  0.0  0.0  0.0  0.0  0.0  0.0  0.0  0.0  0.0  ...   0.0   0.0   \n",
       "4        0.0  0.0  0.0  0.0  0.0  0.0  0.0  0.0  0.0  0.0  ...   0.0   0.0   \n",
       "5        4.0  3.0  0.0  0.0  0.0  0.0  0.0  0.0  0.0  0.0  ...   0.0   0.0   \n",
       "\n",
       "item id  1675  1676  1677  1678  1679  1680  1681  1682  \n",
       "user id                                                  \n",
       "1         0.0   0.0   0.0   0.0   0.0   0.0   0.0   0.0  \n",
       "2         0.0   0.0   0.0   0.0   0.0   0.0   0.0   0.0  \n",
       "3         0.0   0.0   0.0   0.0   0.0   0.0   0.0   0.0  \n",
       "4         0.0   0.0   0.0   0.0   0.0   0.0   0.0   0.0  \n",
       "5         0.0   0.0   0.0   0.0   0.0   0.0   0.0   0.0  \n",
       "\n",
       "[5 rows x 1682 columns]"
      ]
     },
     "execution_count": 9,
     "metadata": {},
     "output_type": "execute_result"
    }
   ],
   "source": [
    "col_order = R.columns.astype('int').sort_values().astype('str')\n",
    "row_order = R.index.astype('int').sort_values().astype('str')\n",
    "\n",
    "R = R.loc[row_order, col_order] # order rows and columns by ids\n",
    "R.head()"
   ]
  },
  {
   "cell_type": "markdown",
   "metadata": {
    "slideshow": {
     "slide_type": "subslide"
    }
   },
   "source": [
    "### Subset Ratings\n",
    "\n",
    "Create a manageable dataset: 15 users and 11 movies"
   ]
  },
  {
   "cell_type": "code",
   "execution_count": 10,
   "metadata": {
    "slideshow": {
     "slide_type": "-"
    }
   },
   "outputs": [
    {
     "data": {
      "text/html": [
       "<div>\n",
       "<style scoped>\n",
       "    .dataframe tbody tr th:only-of-type {\n",
       "        vertical-align: middle;\n",
       "    }\n",
       "\n",
       "    .dataframe tbody tr th {\n",
       "        vertical-align: top;\n",
       "    }\n",
       "\n",
       "    .dataframe thead th {\n",
       "        text-align: right;\n",
       "    }\n",
       "</style>\n",
       "<table border=\"1\" class=\"dataframe\">\n",
       "  <thead>\n",
       "    <tr style=\"text-align: right;\">\n",
       "      <th>item id</th>\n",
       "      <th>289</th>\n",
       "      <th>238</th>\n",
       "      <th>97</th>\n",
       "      <th>268</th>\n",
       "      <th>546</th>\n",
       "      <th>196</th>\n",
       "      <th>186</th>\n",
       "      <th>70</th>\n",
       "      <th>333</th>\n",
       "      <th>475</th>\n",
       "      <th>153</th>\n",
       "    </tr>\n",
       "    <tr>\n",
       "      <th>user id</th>\n",
       "      <th></th>\n",
       "      <th></th>\n",
       "      <th></th>\n",
       "      <th></th>\n",
       "      <th></th>\n",
       "      <th></th>\n",
       "      <th></th>\n",
       "      <th></th>\n",
       "      <th></th>\n",
       "      <th></th>\n",
       "      <th></th>\n",
       "    </tr>\n",
       "  </thead>\n",
       "  <tbody>\n",
       "    <tr>\n",
       "      <td>291</td>\n",
       "      <td>0.0</td>\n",
       "      <td>5.0</td>\n",
       "      <td>4.0</td>\n",
       "      <td>0.0</td>\n",
       "      <td>3.0</td>\n",
       "      <td>0.0</td>\n",
       "      <td>0.0</td>\n",
       "      <td>4.0</td>\n",
       "      <td>0.0</td>\n",
       "      <td>5.0</td>\n",
       "      <td>4.0</td>\n",
       "    </tr>\n",
       "    <tr>\n",
       "      <td>864</td>\n",
       "      <td>0.0</td>\n",
       "      <td>5.0</td>\n",
       "      <td>4.0</td>\n",
       "      <td>0.0</td>\n",
       "      <td>4.0</td>\n",
       "      <td>4.0</td>\n",
       "      <td>4.0</td>\n",
       "      <td>4.0</td>\n",
       "      <td>5.0</td>\n",
       "      <td>0.0</td>\n",
       "      <td>5.0</td>\n",
       "    </tr>\n",
       "    <tr>\n",
       "      <td>311</td>\n",
       "      <td>0.0</td>\n",
       "      <td>4.0</td>\n",
       "      <td>4.0</td>\n",
       "      <td>0.0</td>\n",
       "      <td>0.0</td>\n",
       "      <td>5.0</td>\n",
       "      <td>3.0</td>\n",
       "      <td>4.0</td>\n",
       "      <td>0.0</td>\n",
       "      <td>0.0</td>\n",
       "      <td>0.0</td>\n",
       "    </tr>\n",
       "    <tr>\n",
       "      <td>747</td>\n",
       "      <td>0.0</td>\n",
       "      <td>3.0</td>\n",
       "      <td>5.0</td>\n",
       "      <td>5.0</td>\n",
       "      <td>0.0</td>\n",
       "      <td>2.0</td>\n",
       "      <td>0.0</td>\n",
       "      <td>4.0</td>\n",
       "      <td>4.0</td>\n",
       "      <td>5.0</td>\n",
       "      <td>4.0</td>\n",
       "    </tr>\n",
       "    <tr>\n",
       "      <td>85</td>\n",
       "      <td>3.0</td>\n",
       "      <td>2.0</td>\n",
       "      <td>2.0</td>\n",
       "      <td>4.0</td>\n",
       "      <td>0.0</td>\n",
       "      <td>4.0</td>\n",
       "      <td>3.0</td>\n",
       "      <td>4.0</td>\n",
       "      <td>1.0</td>\n",
       "      <td>0.0</td>\n",
       "      <td>3.0</td>\n",
       "    </tr>\n",
       "    <tr>\n",
       "      <td>286</td>\n",
       "      <td>5.0</td>\n",
       "      <td>0.0</td>\n",
       "      <td>4.0</td>\n",
       "      <td>4.0</td>\n",
       "      <td>1.0</td>\n",
       "      <td>4.0</td>\n",
       "      <td>5.0</td>\n",
       "      <td>5.0</td>\n",
       "      <td>0.0</td>\n",
       "      <td>4.0</td>\n",
       "      <td>5.0</td>\n",
       "    </tr>\n",
       "    <tr>\n",
       "      <td>327</td>\n",
       "      <td>0.0</td>\n",
       "      <td>4.0</td>\n",
       "      <td>0.0</td>\n",
       "      <td>4.0</td>\n",
       "      <td>2.0</td>\n",
       "      <td>4.0</td>\n",
       "      <td>2.0</td>\n",
       "      <td>4.0</td>\n",
       "      <td>2.0</td>\n",
       "      <td>4.0</td>\n",
       "      <td>4.0</td>\n",
       "    </tr>\n",
       "    <tr>\n",
       "      <td>328</td>\n",
       "      <td>4.0</td>\n",
       "      <td>0.0</td>\n",
       "      <td>3.0</td>\n",
       "      <td>0.0</td>\n",
       "      <td>3.0</td>\n",
       "      <td>0.0</td>\n",
       "      <td>4.0</td>\n",
       "      <td>4.0</td>\n",
       "      <td>3.0</td>\n",
       "      <td>0.0</td>\n",
       "      <td>2.0</td>\n",
       "    </tr>\n",
       "    <tr>\n",
       "      <td>653</td>\n",
       "      <td>0.0</td>\n",
       "      <td>1.0</td>\n",
       "      <td>3.0</td>\n",
       "      <td>0.0</td>\n",
       "      <td>2.0</td>\n",
       "      <td>2.0</td>\n",
       "      <td>5.0</td>\n",
       "      <td>2.0</td>\n",
       "      <td>5.0</td>\n",
       "      <td>0.0</td>\n",
       "      <td>2.0</td>\n",
       "    </tr>\n",
       "    <tr>\n",
       "      <td>385</td>\n",
       "      <td>0.0</td>\n",
       "      <td>5.0</td>\n",
       "      <td>0.0</td>\n",
       "      <td>0.0</td>\n",
       "      <td>0.0</td>\n",
       "      <td>0.0</td>\n",
       "      <td>1.0</td>\n",
       "      <td>0.0</td>\n",
       "      <td>0.0</td>\n",
       "      <td>0.0</td>\n",
       "      <td>4.0</td>\n",
       "    </tr>\n",
       "    <tr>\n",
       "      <td>299</td>\n",
       "      <td>3.0</td>\n",
       "      <td>4.0</td>\n",
       "      <td>4.0</td>\n",
       "      <td>0.0</td>\n",
       "      <td>3.0</td>\n",
       "      <td>0.0</td>\n",
       "      <td>3.0</td>\n",
       "      <td>3.0</td>\n",
       "      <td>4.0</td>\n",
       "      <td>4.0</td>\n",
       "      <td>3.0</td>\n",
       "    </tr>\n",
       "    <tr>\n",
       "      <td>497</td>\n",
       "      <td>0.0</td>\n",
       "      <td>0.0</td>\n",
       "      <td>4.0</td>\n",
       "      <td>4.0</td>\n",
       "      <td>0.0</td>\n",
       "      <td>0.0</td>\n",
       "      <td>4.0</td>\n",
       "      <td>4.0</td>\n",
       "      <td>0.0</td>\n",
       "      <td>4.0</td>\n",
       "      <td>4.0</td>\n",
       "    </tr>\n",
       "    <tr>\n",
       "      <td>271</td>\n",
       "      <td>4.0</td>\n",
       "      <td>4.0</td>\n",
       "      <td>5.0</td>\n",
       "      <td>0.0</td>\n",
       "      <td>2.0</td>\n",
       "      <td>4.0</td>\n",
       "      <td>4.0</td>\n",
       "      <td>5.0</td>\n",
       "      <td>0.0</td>\n",
       "      <td>0.0</td>\n",
       "      <td>0.0</td>\n",
       "    </tr>\n",
       "    <tr>\n",
       "      <td>95</td>\n",
       "      <td>2.0</td>\n",
       "      <td>5.0</td>\n",
       "      <td>4.0</td>\n",
       "      <td>0.0</td>\n",
       "      <td>2.0</td>\n",
       "      <td>4.0</td>\n",
       "      <td>5.0</td>\n",
       "      <td>4.0</td>\n",
       "      <td>0.0</td>\n",
       "      <td>0.0</td>\n",
       "      <td>5.0</td>\n",
       "    </tr>\n",
       "    <tr>\n",
       "      <td>18</td>\n",
       "      <td>0.0</td>\n",
       "      <td>5.0</td>\n",
       "      <td>4.0</td>\n",
       "      <td>0.0</td>\n",
       "      <td>0.0</td>\n",
       "      <td>3.0</td>\n",
       "      <td>4.0</td>\n",
       "      <td>4.0</td>\n",
       "      <td>0.0</td>\n",
       "      <td>0.0</td>\n",
       "      <td>4.0</td>\n",
       "    </tr>\n",
       "  </tbody>\n",
       "</table>\n",
       "</div>"
      ],
      "text/plain": [
       "item id  289  238   97  268  546  196  186   70  333  475  153\n",
       "user id                                                       \n",
       "291      0.0  5.0  4.0  0.0  3.0  0.0  0.0  4.0  0.0  5.0  4.0\n",
       "864      0.0  5.0  4.0  0.0  4.0  4.0  4.0  4.0  5.0  0.0  5.0\n",
       "311      0.0  4.0  4.0  0.0  0.0  5.0  3.0  4.0  0.0  0.0  0.0\n",
       "747      0.0  3.0  5.0  5.0  0.0  2.0  0.0  4.0  4.0  5.0  4.0\n",
       "85       3.0  2.0  2.0  4.0  0.0  4.0  3.0  4.0  1.0  0.0  3.0\n",
       "286      5.0  0.0  4.0  4.0  1.0  4.0  5.0  5.0  0.0  4.0  5.0\n",
       "327      0.0  4.0  0.0  4.0  2.0  4.0  2.0  4.0  2.0  4.0  4.0\n",
       "328      4.0  0.0  3.0  0.0  3.0  0.0  4.0  4.0  3.0  0.0  2.0\n",
       "653      0.0  1.0  3.0  0.0  2.0  2.0  5.0  2.0  5.0  0.0  2.0\n",
       "385      0.0  5.0  0.0  0.0  0.0  0.0  1.0  0.0  0.0  0.0  4.0\n",
       "299      3.0  4.0  4.0  0.0  3.0  0.0  3.0  3.0  4.0  4.0  3.0\n",
       "497      0.0  0.0  4.0  4.0  0.0  0.0  4.0  4.0  0.0  4.0  4.0\n",
       "271      4.0  4.0  5.0  0.0  2.0  4.0  4.0  5.0  0.0  0.0  0.0\n",
       "95       2.0  5.0  4.0  0.0  2.0  4.0  5.0  4.0  0.0  0.0  5.0\n",
       "18       0.0  5.0  4.0  0.0  0.0  3.0  4.0  4.0  0.0  0.0  4.0"
      ]
     },
     "execution_count": 10,
     "metadata": {},
     "output_type": "execute_result"
    }
   ],
   "source": [
    "I = 15\n",
    "M = 11\n",
    "topusers = ratings.groupby('user id').size().sort_values(ascending=False).head(70).tail(I)\n",
    "topmovies = ratings.groupby('item id').size().sort_values(ascending=False).head(70).tail(M)\n",
    "\n",
    "Rsub = R.loc[topusers.index, topmovies.index]\n",
    "Rsub"
   ]
  },
  {
   "cell_type": "markdown",
   "metadata": {
    "slideshow": {
     "slide_type": "subslide"
    }
   },
   "source": [
    "### Visualizing Data and Missing Values\n",
    "\n",
    "Zeros indicate missing ratings. To visualize the missing values, plot the following heatmap"
   ]
  },
  {
   "cell_type": "code",
   "execution_count": 11,
   "metadata": {
    "slideshow": {
     "slide_type": "-"
    }
   },
   "outputs": [
    {
     "data": {
      "image/png": "[encoded data removed]",
      "text/plain": [
       "<Figure size 432x288 with 1 Axes>"
      ]
     },
     "metadata": {
      "needs_background": "light"
     },
     "output_type": "display_data"
    }
   ],
   "source": [
    "Rsub.set_axis(movies.loc[topmovies.index,'movie title'], axis=1, inplace=True) \n",
    "sns.heatmap(Rsub.astype('bool'), cbar=False, cmap='Blues', square=True, linewidths=0.1);"
   ]
  },
  {
   "cell_type": "markdown",
   "metadata": {
    "slideshow": {
     "slide_type": "slide"
    }
   },
   "source": [
    "## Optimization\n",
    "\n",
    "- Find $U$ and $V$ that fit the data well\n",
    "\\begin{align*}\n",
    "\\min_{U,V} \\|R - UV^T\\|_F^2\n",
    "\\end{align*}\n",
    "\n",
    "- Break down problem shows how to choose $u_i$ and $v_m$:\n",
    "\\begin{align*}\n",
    "\\min_{U,V} \\left\\{ \\sum_{i=1}^I\\sum_{m=1}^M (r_{im} - u_i^T v_m)^2 \\right\\}\n",
    "\\end{align*}\n",
    "\n",
    "- Such problems can be solved via optimization:\n",
    "$$x^* = \\arg\\min_y f(y)$$"
   ]
  },
  {
   "cell_type": "markdown",
   "metadata": {
    "slideshow": {
     "slide_type": "subslide"
    }
   },
   "source": [
    "### Why Optimize?\n",
    "\n",
    "* Finding the set of conditions that give _best_ outcome\n",
    "\n",
    "* Problem definition must define what _best_ means: loss/score function\n",
    "\n",
    "* Set of conditions: $x$, outcome: $f(x)$"
   ]
  },
  {
   "cell_type": "markdown",
   "metadata": {
    "slideshow": {
     "slide_type": "fragment"
    }
   },
   "source": [
    "* Portfolio optimization: allocation ($\\mathbf{w}$), expected return ($\\mu$), expected volatility ($\\mathbf{\\Sigma}$)\n",
    "    $$\n",
    "\\begin{aligned} \\min _{\\mathbf{w}} &\\frac{1}{2} \\mathbf{w}^{\\prime} \\mathbf{\\Sigma} \\mathbf{w} \\\\ \\text { subject to } & \\mathbf{w}^{\\prime} \\mu=p \\\\ \\text { and } & \\mathbf{w}^{\\prime} \\mathbf{1}=1 \\end{aligned}\n",
    "$$"
   ]
  },
  {
   "cell_type": "markdown",
   "metadata": {},
   "source": [
    "* Transportation problem: $i$ and $j$ indicate pairs of locations, quantity of goods ($x_{ij}$), supply ($s_i$), demand ($d_j$), transportation network ($\\mathcal{A}$)\n",
    "$$\n",
    "\\begin{aligned}\n",
    "\\min_{x=(x_{ij})\\geq0} &\\sum_{(i, j) \\in \\mathcal{A}} c_{i j} x_{i j}\\\\\n",
    "\\text{sugject to }&\\sum_{j:(i, j) \\in \\mathcal{A}} x_{i j} \\leq s_{i} \\quad \\text { for all } i\\\\\n",
    "&\\sum_{i:(i, j) \\in \\mathcal{A}} x_{i j} \\geq d_{j} \\quad \\text { for all } j\n",
    "\\end{aligned} \n",
    "$$\n",
    "\n",
    "* Amount of goods delivered does not exceed supply  \n",
    "\n",
    "* Amount of goods delivered meets the demand\n",
    "    "
   ]
  },
  {
   "cell_type": "markdown",
   "metadata": {
    "slideshow": {
     "slide_type": "subslide"
    }
   },
   "source": [
    "###  Direction of Function Decrease\n",
    "\n",
    "- Given function $f(x)$, we want to find the minimizing value $x^*$:\n",
    "$$ x^* = \\arg\\min_x f(x). $$"
   ]
  },
  {
   "cell_type": "markdown",
   "metadata": {
    "slideshow": {
     "slide_type": "fragment"
    }
   },
   "source": [
    "- (Harder) From some point, $x=a$, which way (left/right) is minimum?\n",
    "\n",
    "- (Easier) From some point, $x=a$, which way (left/right) _decreases_ $f(x)$?"
   ]
  },
  {
   "cell_type": "markdown",
   "metadata": {
    "slideshow": {
     "slide_type": "fragment"
    }
   },
   "source": [
    "- Repeatedly decrease $f(x)$ by adjusting $x$"
   ]
  },
  {
   "cell_type": "markdown",
   "metadata": {
    "slideshow": {
     "slide_type": "fragment"
    }
   },
   "source": [
    "- When $f(x)$ stops decreasing ($x$ converges to a point), stop"
   ]
  },
  {
   "cell_type": "markdown",
   "metadata": {
    "slideshow": {
     "slide_type": "fragment"
    }
   },
   "source": [
    "- **How to determine the direction of function decrease?**"
   ]
  },
  {
   "cell_type": "markdown",
   "metadata": {
    "slideshow": {
     "slide_type": "subslide"
    }
   },
   "source": [
    "### Example: $f(x) = (x+1)^2$ and $x\\in\\mathbb{R}$\n",
    "\n",
    "- Differentiable convex function $g(x)$ satisfies\n",
    "$$g(x) \\geq g(a) + g'(a)(x-a),$$\n",
    "for any valid $x$ and $a$ \n",
    "\n",
    "- Quadratic function $f(x)$ is convex and minimum is at $x=-1$\n",
    "\n",
    "- Value $f(x)$ decreases as $x$ gets closer to $x=-1$."
   ]
  },
  {
   "cell_type": "markdown",
   "metadata": {
    "slideshow": {
     "slide_type": "subslide"
    }
   },
   "source": [
    "* We want to find $b$ that gives\n",
    "$$f(a) - f(b) \\geq 0$$\n",
    "\n",
    "* We can show that $b$ satisfies\n",
    "$$f'(a)(b-a) \\leq 0$$"
   ]
  },
  {
   "cell_type": "markdown",
   "metadata": {
    "slideshow": {
     "slide_type": "fragment"
    }
   },
   "source": [
    "- Satisfying $f^{\\prime}(a)(b-a)\\leq 0$\n",
    "    - Case 1: if slope $f'(a)<0$, we need $b>a$: i.e. move right. \n",
    "    - Case 2: if slope is $f'(a)>0$, we need $b<a$: i.e. move left\n",
    "    - Case 3: if slope is $f'(a)=0$, we are at the minimum\n",
    "    \n",
    "- $b \\leftarrow a - f'(a)$ is a possibility, but could overshoot!"
   ]
  },
  {
   "cell_type": "markdown",
   "metadata": {
    "slideshow": {
     "slide_type": "fragment"
    }
   },
   "source": [
    "- How big of a step? For now, small amount $\\alpha$ (step size)\n",
    "    $$b \\leftarrow a - \\alpha\\cdot f'(a)$$"
   ]
  },
  {
   "cell_type": "code",
   "execution_count": 12,
   "metadata": {
    "slideshow": {
     "slide_type": "subslide"
    }
   },
   "outputs": [],
   "source": [
    "def f(x): return (x+1)**2\n",
    "def fprime(x): return 2*(x+1)\n",
    "\n",
    "def find_minimum_1(func, slope, a = 2, step=0.1, max_iter=1000):\n",
    "    \n",
    "    for i in range(0, 1000):\n",
    "        \n",
    "        # find next target point\n",
    "        b = a - step*slope(a)\n",
    "        \n",
    "        # set target point as the new starting point\n",
    "        a = b\n",
    "    \n",
    "    return b"
   ]
  },
  {
   "cell_type": "code",
   "execution_count": 13,
   "metadata": {
    "slideshow": {
     "slide_type": "subslide"
    }
   },
   "outputs": [
    {
     "name": "stdout",
     "output_type": "stream",
     "text": [
      "  xstar  = -1.000000, f(xstar) = 0.000000\n"
     ]
    },
    {
     "data": {
      "image/png": "[encoded data removed]",
      "text/plain": [
       "<Figure size 432x288 with 1 Axes>"
      ]
     },
     "metadata": {
      "needs_background": "light"
     },
     "output_type": "display_data"
    }
   ],
   "source": [
    "x = np.linspace(-10, 10, num=1000)\n",
    "xstar = find_minimum_1(f, fprime)\n",
    "\n",
    "print('  xstar  = %f, f(xstar) = %f' % (xstar, f(xstar)))\n",
    "\n",
    "sns.lineplot(x, f(x))\n",
    "plt.plot(xstar, f(xstar), 'xr')\n",
    "plt.show()"
   ]
  },
  {
   "cell_type": "markdown",
   "metadata": {
    "slideshow": {
     "slide_type": "subslide"
    }
   },
   "source": [
    "### Exercise: Find the minimum of $g(x)$\n",
    "\n",
    "$g(x) = (x-3.2)^2 - x + 2.3$ and $x\\in\\mathbb{R}$"
   ]
  },
  {
   "cell_type": "code",
   "execution_count": 14,
   "metadata": {
    "slideshow": {
     "slide_type": "-"
    }
   },
   "outputs": [
    {
     "name": "stdout",
     "output_type": "stream",
     "text": [
      "  xstar  = 3.700000, g(xstar) = -1.150000\n"
     ]
    },
    {
     "data": {
      "image/png": "[encoded data removed]",
      "text/plain": [
       "<Figure size 432x288 with 1 Axes>"
      ]
     },
     "metadata": {
      "needs_background": "light"
     },
     "output_type": "display_data"
    }
   ],
   "source": [
    "def g(x): return (x-3.2)**2 - x + 2.3\n",
    "def gprime(x): return 2*(x-3.2) - 1\n",
    "\n",
    "x = np.linspace(-3, 8, num=1000)\n",
    "xstar = find_minimum_1(g, gprime)\n",
    "\n",
    "print('  xstar  = %f, g(xstar) = %f' % (xstar, g(xstar)))\n",
    "\n",
    "sns.lineplot(x, g(x))\n",
    "plt.plot(xstar, g(xstar), 'xr')\n",
    "plt.show()"
   ]
  },
  {
   "cell_type": "code",
   "execution_count": 15,
   "metadata": {
    "slideshow": {
     "slide_type": "subslide"
    }
   },
   "outputs": [],
   "source": [
    "def find_minimum_2(func, slope, x0 = 2, rate=0.1, message=False):\n",
    "    \n",
    "    c = 0\n",
    "    for i in range(0, 1000):\n",
    "        \n",
    "        x = x0 - rate*slope(x0)\n",
    "        \n",
    "        if np.isclose(x, x0, rtol=1e-5):\n",
    "            if message:\n",
    "                print('converged in %d iterations' % c)\n",
    "            return x\n",
    "        \n",
    "        if func(x) < func(x0):\n",
    "            x0 = x\n",
    "            c += 1\n",
    "        else:\n",
    "            rate *= rate\n",
    "    \n",
    "    print('warning: algorithm did not converge')\n",
    "    \n",
    "    return x "
   ]
  },
  {
   "cell_type": "markdown",
   "metadata": {},
   "source": [
    "### Complexity vs. Running time"
   ]
  },
  {
   "cell_type": "code",
   "execution_count": 16,
   "metadata": {
    "slideshow": {
     "slide_type": "subslide"
    }
   },
   "outputs": [
    {
     "name": "stdout",
     "output_type": "stream",
     "text": [
      "converged in 41 iterations\n"
     ]
    },
    {
     "data": {
      "text/plain": [
       "-1.1499999790850541"
      ]
     },
     "execution_count": 16,
     "metadata": {},
     "output_type": "execute_result"
    }
   ],
   "source": [
    "# smarter algorithm\n",
    "xstar = find_minimum_2(g, gprime, message=True) ## less number of loops\n",
    "g(xstar)"
   ]
  },
  {
   "cell_type": "code",
   "execution_count": 17,
   "metadata": {
    "slideshow": {
     "slide_type": "fragment"
    }
   },
   "outputs": [
    {
     "name": "stdout",
     "output_type": "stream",
     "text": [
      "295 µs ± 96.4 µs per loop (mean ± std. dev. of 10 runs, 10 loops each)\n",
      "2.74 ms ± 69.6 µs per loop (mean ± std. dev. of 10 runs, 10 loops each)\n"
     ]
    }
   ],
   "source": [
    "%timeit -n10 -r10 find_minimum_1(g, gprime) ## faster running time\n",
    "%timeit -n10 -r10 find_minimum_2(g, gprime) ## slower running time"
   ]
  },
  {
   "cell_type": "markdown",
   "metadata": {
    "slideshow": {
     "slide_type": "slide"
    }
   },
   "source": [
    "## Back to Recommender System: Calculating $U$ and $V$\n",
    "\n",
    "- In recommender system, we want to find $U$ and $V$ that minimize the residual:\n",
    "\\begin{align*}\n",
    "\\min_{U,V} \\|R - UV^T\\|_F^2 \n",
    "\\end{align*}\n",
    "- However, due to missing values, we minimize over just the observed ratings: i.e.,\n",
    "\\begin{align*}\n",
    "\\min_{U,V} f(U,V) &= \\min_{U,V} \\left\\{ \\sum_{r_{im}\\in R} f_{im}(u_i, v_m) \\right\\}\\tag{only observed ratings}\\\\\n",
    "&= \\min_{U,V} \\left\\{ \\sum_{r_{im}\\in R} (r_{im} - u_i^T v_m)^2 \\right\\}\n",
    "\\end{align*}"
   ]
  },
  {
   "cell_type": "markdown",
   "metadata": {
    "slideshow": {
     "slide_type": "subslide"
    }
   },
   "source": [
    "- Since $f(U,V)$ is a sum of quadratic (convex) functions, we can cycle through decreasing $f_{ij}(u_i,v_m)$ respect to vectors $u_i$ and $v_m$ eventually decreases the sum."
   ]
  },
  {
   "cell_type": "markdown",
   "metadata": {
    "slideshow": {
     "slide_type": "fragment"
    }
   },
   "source": [
    "- In order to apply the update equations as in the toy examples, we compute the gradients:\n",
    "\\begin{align*}\n",
    "\\frac{\\partial}{\\partial u_i} f_{ij}(u_i,v_m) &= -2(r_{ij} - u_i^T v_m)\\cdot v_m\\\\\n",
    "\\frac{\\partial}{\\partial v_m} f_{ij}(u_i,v_m) &= -2(r_{ij} - u_i^T v_m)\\cdot u_i.\n",
    "\\end{align*}"
   ]
  },
  {
   "cell_type": "markdown",
   "metadata": {
    "slideshow": {
     "slide_type": "fragment"
    }
   },
   "source": [
    "- Now, the update formulas are\n",
    "\\begin{align*}\n",
    "u_i^{\\text{new}} &= u_i + 2\\alpha(r_{ij} - u_i^T v_m)\\cdot v_m\\\\\n",
    "v_m^{\\text{new}} &= v_m + 2\\alpha(r_{ij} - u_i^T v_m)\\cdot u_i,\n",
    "\\end{align*}\n",
    "where $\\alpha$ is the step-size"
   ]
  },
  {
   "cell_type": "markdown",
   "metadata": {
    "slideshow": {
     "slide_type": "subslide"
    }
   },
   "source": [
    "### Setup Variables"
   ]
  },
  {
   "cell_type": "code",
   "execution_count": 18,
   "metadata": {
    "slideshow": {
     "slide_type": "-"
    }
   },
   "outputs": [],
   "source": [
    "RsubMask = (Rsub!=0).astype('int')  # 0: missing, 1: observed\n",
    "RsubOnes = (1+0*Rsub).astype('int') # all ones\n",
    "\n",
    "nonzero_loc = np.where(Rsub!=0)\n",
    "\n",
    "# number of latent factors\n",
    "k = 5\n",
    "U = np.random.uniform(0, 2, size=k*I).reshape((I, k))\n",
    "V = np.random.uniform(0, 2, size=k*M).reshape((M, k))"
   ]
  },
  {
   "cell_type": "markdown",
   "metadata": {
    "slideshow": {
     "slide_type": "subslide"
    }
   },
   "source": [
    "### Run Optimization"
   ]
  },
  {
   "cell_type": "code",
   "execution_count": 19,
   "metadata": {
    "slideshow": {
     "slide_type": "-"
    }
   },
   "outputs": [],
   "source": [
    "residual2 = []\n",
    "\n",
    "rate = 0.1\n",
    "for t in range(0, 300):\n",
    "    \n",
    "    # compute error after one sweep of updates\n",
    "    E = (Rsub - np.inner(U, V))*RsubMask\n",
    "    residual2 += [np.linalg.norm(E, 'fro')]\n",
    "    \n",
    "    for i, m in zip(*nonzero_loc):\n",
    "        \n",
    "        U[i] = U[i] + rate*V[m]*(Rsub.iloc[i,m] - np.inner(U[i], V[m]))\n",
    "        V[m] = V[m] + rate*U[i]*(Rsub.iloc[i,m] - np.inner(U[i], V[m]))"
   ]
  },
  {
   "cell_type": "markdown",
   "metadata": {
    "slideshow": {
     "slide_type": "subslide"
    }
   },
   "source": [
    "### Visualize Recommendations"
   ]
  },
  {
   "cell_type": "code",
   "execution_count": 20,
   "metadata": {
    "slideshow": {
     "slide_type": "-"
    }
   },
   "outputs": [
    {
     "data": {
      "image/png": "[encoded data removed]",
      "text/plain": [
       "<Figure size 1800x1080 with 4 Axes>"
      ]
     },
     "metadata": {
      "needs_background": "light"
     },
     "output_type": "display_data"
    }
   ],
   "source": [
    "RsubFit = pd.DataFrame(np.inner(U, V)*RsubOnes)\n",
    "\n",
    "RsubFitFixed = np.minimum(RsubFit, 5)\n",
    "RsubFitFixed = np.maximum(RsubFitFixed, 0)\n",
    "\n",
    "fig, ax = plt.subplots(ncols=4, figsize=(25, 15))\n",
    "sns.heatmap(Rsub,\n",
    "            ax=ax[0], vmin=0, vmax=5, square=True, linewidths=0.1,\n",
    "            cbar=False, cmap=sns.cubehelix_palette(6));\n",
    "ax[0].set_title('Ratings')\n",
    "\n",
    "sns.heatmap(RsubFitFixed*RsubMask, \n",
    "            ax=ax[1], vmin=0, vmax=5, square=True, linewidths=0.1,\n",
    "            cbar=False, cmap=sns.cubehelix_palette(6));\n",
    "ax[1].set_title('Fit - Ratings')\n",
    "\n",
    "sns.heatmap(RsubFitFixed, \n",
    "            ax=ax[2], vmin=0, vmax=5, square=True, linewidths=0.1,\n",
    "            cbar=False, cmap=sns.cubehelix_palette(6));\n",
    "ax[2].set_title('All - Ratings')\n",
    "\n",
    "sns.heatmap((RsubFitFixed*RsubMask - Rsub), center=0,\n",
    "            ax=ax[3], vmin=-5, vmax=5, square=True, linewidths=0.1,\n",
    "            cbar=False, cmap='jet');\n",
    "ax[3].set_title('Fit - Residuals');"
   ]
  },
  {
   "cell_type": "markdown",
   "metadata": {
    "slideshow": {
     "slide_type": "subslide"
    }
   },
   "source": [
    "### Reduction of the residual\n",
    "\n",
    "As $k$ increases, $U$ and $V$ become larger, so we can decrease the error to be smaller and smaller. However, if $k$ is too big respect to the amount of data, the residual starts to increase again.\n",
    "\n",
    "Play around with different values of $k$."
   ]
  },
  {
   "cell_type": "code",
   "execution_count": 21,
   "metadata": {
    "slideshow": {
     "slide_type": "-"
    }
   },
   "outputs": [
    {
     "data": {
      "image/png": "[encoded data removed]",
      "text/plain": [
       "<Figure size 432x288 with 1 Axes>"
      ]
     },
     "metadata": {
      "needs_background": "light"
     },
     "output_type": "display_data"
    }
   ],
   "source": [
    "sns.lineplot(range(1, 301), residual2);"
   ]
  }
 ],
 "metadata": {
  "celltoolbar": "Slideshow",
  "kernelspec": {
   "display_name": "Python 3",
   "language": "python",
   "name": "python3"
  },
  "language_info": {
   "codemirror_mode": {
    "name": "ipython",
    "version": 3
   },
   "file_extension": ".py",
   "mimetype": "text/x-python",
   "name": "python",
   "nbconvert_exporter": "python",
   "pygments_lexer": "ipython3",
   "version": "3.7.3"
  },
  "toc": {
   "base_numbering": 1,
   "nav_menu": {},
   "number_sections": false,
   "sideBar": true,
   "skip_h1_title": false,
   "title_cell": "Table of Contents",
   "title_sidebar": "Contents",
   "toc_cell": false,
   "toc_position": {},
   "toc_section_display": true,
   "toc_window_display": true
  }
 },
 "nbformat": 4,
 "nbformat_minor": 4
}
